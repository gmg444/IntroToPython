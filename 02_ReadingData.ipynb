{
 "cells": [
  {
   "cell_type": "code",
   "execution_count": 1,
   "metadata": {
    "collapsed": true
   },
   "outputs": [],
   "source": [
    "%matplotlib inline"
   ]
  },
  {
   "cell_type": "markdown",
   "metadata": {},
   "source": [
    "## Reading data from text files"
   ]
  },
  {
   "cell_type": "markdown",
   "metadata": {},
   "source": [
    "Note backslash indicates escape characters - see https://learnpythonthehardway.org/book/ex10.html "
   ]
  },
  {
   "cell_type": "code",
   "execution_count": 2,
   "metadata": {
    "collapsed": false
   },
   "outputs": [
    {
     "name": "stdout",
     "output_type": "stream",
     "text": [
      "display_name\tpopulation\tarts_grants_2014\n",
      "Alabama\t4530315\t9204877\n",
      "Alaska\t660633\t1953665\n",
      "Arizona\t5863809\t14529546\n",
      "Arkansas\t2757631\t9850864\n",
      "California\t37691912\t442319185\n",
      "Colorado\t4678630\t41726830\n",
      "Connecticut\t3527249\t50288878\n",
      "Delaware\t838549\t11474549\n",
      "District of Columbia\t552433\t161713166\n",
      "Florida\t17671452\t62105891\n",
      "Georgia\t8975842\t61385507\n",
      "Hawaii\t1284220\t9794841\n",
      "Idaho\t1416564\t3119145\n",
      "Illinois\t12772888\t170409832\n",
      "Indiana\t6265933\t46236836\n",
      "Iowa\t2955010\t8277964\n",
      "Kansas\t2740759\t7086984\n",
      "Kentucky\t4206074\t19897897\n",
      "Louisiana\t4515939\t13579452\n",
      "Maine\t1325518\t9087302\n",
      "Maryland\t5624246\t20395433\n",
      "Massachusetts\t6433422\t149368325\n",
      "Michigan\t9883360\t86199283\n",
      "Minnesota\t5141953\t89767506\n",
      "Mississippi\t2901371\t3115839\n",
      "Missouri\t5768151\t78790181\n",
      "Montana\t930698\t5733124\n",
      "Nebraska\t1757399\t24033693\n",
      "Nevada\t2399532\t6691353\n",
      "New Hampshire\t1316216\t8198690\n",
      "New Jersey\t8751436\t29500068\n",
      "New Mexico\t1912684\t11049424\n",
      "New York\t19274244\t653407487\n",
      "North Carolina\t8611367\t33412552\n",
      "North Dakota\t630529\t1106609\n",
      "Ohio\t11467123\t98047340\n",
      "Oklahoma\t3547049\t19607468\n",
      "Oregon\t3642919\t22827242\n",
      "Pennsylvania\t12440621\t164343581\n",
      "Rhode Island\t1050292\t11994787\n",
      "South Carolina\t4229842\t10061169\n",
      "South Dakota\t770184\t808249\n",
      "Tennessee\t5935099\t28351681\n",
      "Texas\t22875689\t218145267\n",
      "Utah\t2427340\t25701109\n",
      "Vermont\t624501\t6099314\n",
      "Virginia\t7642884\t57324542\n",
      "Washington\t6271775\t41851398\n",
      "West Virginia\t1817871\t2062751\n",
      "Wisconsin\t5535168\t29379433\n",
      "Wyoming\t505907\t4633856\n"
     ]
    }
   ],
   "source": [
    "with open(\"arts_funding_by_state.txt\") as f:\n",
    "    content = f.readlines()\n",
    "    for row in content:\n",
    "        print(row.replace(\"\\n\", \"\"))"
   ]
  },
  {
   "cell_type": "markdown",
   "metadata": {
    "collapsed": true
   },
   "source": [
    "We can use the split function to split the lines into lists or a dictionary. In this case the lines are tab-delimited:"
   ]
  },
  {
   "cell_type": "code",
   "execution_count": 3,
   "metadata": {
    "collapsed": false
   },
   "outputs": [
    {
     "name": "stdout",
     "output_type": "stream",
     "text": [
      "[['display_name', 'population', 'arts_grants_2014'], ['Alabama', '4530315', '9204877'], ['Alaska', '660633', '1953665'], ['Arizona', '5863809', '14529546'], ['Arkansas', '2757631', '9850864'], ['California', '37691912', '442319185'], ['Colorado', '4678630', '41726830'], ['Connecticut', '3527249', '50288878'], ['Delaware', '838549', '11474549'], ['District of Columbia', '552433', '161713166'], ['Florida', '17671452', '62105891'], ['Georgia', '8975842', '61385507'], ['Hawaii', '1284220', '9794841'], ['Idaho', '1416564', '3119145'], ['Illinois', '12772888', '170409832'], ['Indiana', '6265933', '46236836'], ['Iowa', '2955010', '8277964'], ['Kansas', '2740759', '7086984'], ['Kentucky', '4206074', '19897897'], ['Louisiana', '4515939', '13579452'], ['Maine', '1325518', '9087302'], ['Maryland', '5624246', '20395433'], ['Massachusetts', '6433422', '149368325'], ['Michigan', '9883360', '86199283'], ['Minnesota', '5141953', '89767506'], ['Mississippi', '2901371', '3115839'], ['Missouri', '5768151', '78790181'], ['Montana', '930698', '5733124'], ['Nebraska', '1757399', '24033693'], ['Nevada', '2399532', '6691353'], ['New Hampshire', '1316216', '8198690'], ['New Jersey', '8751436', '29500068'], ['New Mexico', '1912684', '11049424'], ['New York', '19274244', '653407487'], ['North Carolina', '8611367', '33412552'], ['North Dakota', '630529', '1106609'], ['Ohio', '11467123', '98047340'], ['Oklahoma', '3547049', '19607468'], ['Oregon', '3642919', '22827242'], ['Pennsylvania', '12440621', '164343581'], ['Rhode Island', '1050292', '11994787'], ['South Carolina', '4229842', '10061169'], ['South Dakota', '770184', '808249'], ['Tennessee', '5935099', '28351681'], ['Texas', '22875689', '218145267'], ['Utah', '2427340', '25701109'], ['Vermont', '624501', '6099314'], ['Virginia', '7642884', '57324542'], ['Washington', '6271775', '41851398'], ['West Virginia', '1817871', '2062751'], ['Wisconsin', '5535168', '29379433'], ['Wyoming', '505907', '4633856']]\n"
     ]
    }
   ],
   "source": [
    "with open(\"arts_funding_by_state.txt\") as f:\n",
    "    content = f.readlines()\n",
    "    split_results = []\n",
    "    for row in content:\n",
    "        lst = row.replace(\"\\n\", \"\").split(\"\\t\")\n",
    "        split_results.append(lst)\n",
    "    print(split_results)"
   ]
  },
  {
   "cell_type": "code",
   "execution_count": 5,
   "metadata": {
    "collapsed": false
   },
   "outputs": [
    {
     "name": "stdout",
     "output_type": "stream",
     "text": [
      "{'Mississippi': {'funding': '3115839', 'population': '2901371'}, 'Oklahoma': {'funding': '19607468', 'population': '3547049'}, 'Delaware': {'funding': '11474549', 'population': '838549'}, 'Minnesota': {'funding': '89767506', 'population': '5141953'}, 'Illinois': {'funding': '170409832', 'population': '12772888'}, 'Arkansas': {'funding': '9850864', 'population': '2757631'}, 'New Mexico': {'funding': '11049424', 'population': '1912684'}, 'Ohio': {'funding': '98047340', 'population': '11467123'}, 'Indiana': {'funding': '46236836', 'population': '6265933'}, 'Maryland': {'funding': '20395433', 'population': '5624246'}, 'Louisiana': {'funding': '13579452', 'population': '4515939'}, 'Idaho': {'funding': '3119145', 'population': '1416564'}, 'Wyoming': {'funding': '4633856', 'population': '505907'}, 'Tennessee': {'funding': '28351681', 'population': '5935099'}, 'Arizona': {'funding': '14529546', 'population': '5863809'}, 'Iowa': {'funding': '8277964', 'population': '2955010'}, 'Michigan': {'funding': '86199283', 'population': '9883360'}, 'Kansas': {'funding': '7086984', 'population': '2740759'}, 'Utah': {'funding': '25701109', 'population': '2427340'}, 'Virginia': {'funding': '57324542', 'population': '7642884'}, 'Oregon': {'funding': '22827242', 'population': '3642919'}, 'Connecticut': {'funding': '50288878', 'population': '3527249'}, 'Montana': {'funding': '5733124', 'population': '930698'}, 'California': {'funding': '442319185', 'population': '37691912'}, 'Massachusetts': {'funding': '149368325', 'population': '6433422'}, 'West Virginia': {'funding': '2062751', 'population': '1817871'}, 'South Carolina': {'funding': '10061169', 'population': '4229842'}, 'New Hampshire': {'funding': '8198690', 'population': '1316216'}, 'Wisconsin': {'funding': '29379433', 'population': '5535168'}, 'Vermont': {'funding': '6099314', 'population': '624501'}, 'Georgia': {'funding': '61385507', 'population': '8975842'}, 'North Dakota': {'funding': '1106609', 'population': '630529'}, 'Pennsylvania': {'funding': '164343581', 'population': '12440621'}, 'Florida': {'funding': '62105891', 'population': '17671452'}, 'Alaska': {'funding': '1953665', 'population': '660633'}, 'Kentucky': {'funding': '19897897', 'population': '4206074'}, 'Hawaii': {'funding': '9794841', 'population': '1284220'}, 'Nebraska': {'funding': '24033693', 'population': '1757399'}, 'Missouri': {'funding': '78790181', 'population': '5768151'}, 'display_name': {'funding': 'arts_grants_2014', 'population': 'population'}, 'Alabama': {'funding': '9204877', 'population': '4530315'}, 'New York': {'funding': '653407487', 'population': '19274244'}, 'South Dakota': {'funding': '808249', 'population': '770184'}, 'Colorado': {'funding': '41726830', 'population': '4678630'}, 'New Jersey': {'funding': '29500068', 'population': '8751436'}, 'Washington': {'funding': '41851398', 'population': '6271775'}, 'North Carolina': {'funding': '33412552', 'population': '8611367'}, 'District of Columbia': {'funding': '161713166', 'population': '552433'}, 'Texas': {'funding': '218145267', 'population': '22875689'}, 'Nevada': {'funding': '6691353', 'population': '2399532'}, 'Maine': {'funding': '9087302', 'population': '1325518'}, 'Rhode Island': {'funding': '11994787', 'population': '1050292'}}\n"
     ]
    }
   ],
   "source": [
    "with open(\"arts_funding_by_state.txt\") as f:\n",
    "    content = f.readlines()\n",
    "    dict_results = dict()\n",
    "    for row in content:\n",
    "        lst = row.replace(\"\\n\", \"\").split(\"\\t\")\n",
    "        dict_results[lst[0]] = { \"population\": lst[1], \"funding\": lst[2] }\n",
    "    print(dict_results)"
   ]
  },
  {
   "cell_type": "markdown",
   "metadata": {},
   "source": [
    "Reading data using the CSV Reader - handles some of the complexities for you. it also supports reading text into a dictionary:"
   ]
  },
  {
   "cell_type": "code",
   "execution_count": 6,
   "metadata": {
    "collapsed": false
   },
   "outputs": [
    {
     "name": "stdout",
     "output_type": "stream",
     "text": [
      "('display_name', 'population', 'arts_grants_2014')\n",
      "('Alabama', '4530315', '9204877')\n",
      "('Alaska', '660633', '1953665')\n",
      "('Arizona', '5863809', '14529546')\n",
      "('Arkansas', '2757631', '9850864')\n",
      "('California', '37691912', '442319185')\n",
      "('Colorado', '4678630', '41726830')\n",
      "('Connecticut', '3527249', '50288878')\n",
      "('Delaware', '838549', '11474549')\n",
      "('District of Columbia', '552433', '161713166')\n",
      "('Florida', '17671452', '62105891')\n",
      "('Georgia', '8975842', '61385507')\n",
      "('Hawaii', '1284220', '9794841')\n",
      "('Idaho', '1416564', '3119145')\n",
      "('Illinois', '12772888', '170409832')\n",
      "('Indiana', '6265933', '46236836')\n",
      "('Iowa', '2955010', '8277964')\n",
      "('Kansas', '2740759', '7086984')\n",
      "('Kentucky', '4206074', '19897897')\n",
      "('Louisiana', '4515939', '13579452')\n",
      "('Maine', '1325518', '9087302')\n",
      "('Maryland', '5624246', '20395433')\n",
      "('Massachusetts', '6433422', '149368325')\n",
      "('Michigan', '9883360', '86199283')\n",
      "('Minnesota', '5141953', '89767506')\n",
      "('Mississippi', '2901371', '3115839')\n",
      "('Missouri', '5768151', '78790181')\n",
      "('Montana', '930698', '5733124')\n",
      "('Nebraska', '1757399', '24033693')\n",
      "('Nevada', '2399532', '6691353')\n",
      "('New Hampshire', '1316216', '8198690')\n",
      "('New Jersey', '8751436', '29500068')\n",
      "('New Mexico', '1912684', '11049424')\n",
      "('New York', '19274244', '653407487')\n",
      "('North Carolina', '8611367', '33412552')\n",
      "('North Dakota', '630529', '1106609')\n",
      "('Ohio', '11467123', '98047340')\n",
      "('Oklahoma', '3547049', '19607468')\n",
      "('Oregon', '3642919', '22827242')\n",
      "('Pennsylvania', '12440621', '164343581')\n",
      "('Rhode Island', '1050292', '11994787')\n",
      "('South Carolina', '4229842', '10061169')\n",
      "('South Dakota', '770184', '808249')\n",
      "('Tennessee', '5935099', '28351681')\n",
      "('Texas', '22875689', '218145267')\n",
      "('Utah', '2427340', '25701109')\n",
      "('Vermont', '624501', '6099314')\n",
      "('Virginia', '7642884', '57324542')\n",
      "('Washington', '6271775', '41851398')\n",
      "('West Virginia', '1817871', '2062751')\n",
      "('Wisconsin', '5535168', '29379433')\n",
      "('Wyoming', '505907', '4633856')\n"
     ]
    }
   ],
   "source": [
    "import csv\n",
    "with open(\"arts_funding_by_state.txt\") as csv_file:\n",
    "    rdr = csv.reader(csv_file, delimiter='\\t')\n",
    "    for row in rdr:\n",
    "        print (row[0], row[1], row[2])"
   ]
  },
  {
   "cell_type": "markdown",
   "metadata": {
    "collapsed": true
   },
   "source": [
    "Reading data from text files into a dictionary for each line."
   ]
  },
  {
   "cell_type": "code",
   "execution_count": 7,
   "metadata": {
    "collapsed": false
   },
   "outputs": [
    {
     "name": "stdout",
     "output_type": "stream",
     "text": [
      "{'arts_grants_2014': '9204877', 'display_name': 'Alabama', 'population': '4530315'}\n",
      "{'arts_grants_2014': '1953665', 'display_name': 'Alaska', 'population': '660633'}\n",
      "{'arts_grants_2014': '14529546', 'display_name': 'Arizona', 'population': '5863809'}\n",
      "{'arts_grants_2014': '9850864', 'display_name': 'Arkansas', 'population': '2757631'}\n",
      "{'arts_grants_2014': '442319185', 'display_name': 'California', 'population': '37691912'}\n",
      "{'arts_grants_2014': '41726830', 'display_name': 'Colorado', 'population': '4678630'}\n",
      "{'arts_grants_2014': '50288878', 'display_name': 'Connecticut', 'population': '3527249'}\n",
      "{'arts_grants_2014': '11474549', 'display_name': 'Delaware', 'population': '838549'}\n",
      "{'arts_grants_2014': '161713166', 'display_name': 'District of Columbia', 'population': '552433'}\n",
      "{'arts_grants_2014': '62105891', 'display_name': 'Florida', 'population': '17671452'}\n",
      "{'arts_grants_2014': '61385507', 'display_name': 'Georgia', 'population': '8975842'}\n",
      "{'arts_grants_2014': '9794841', 'display_name': 'Hawaii', 'population': '1284220'}\n",
      "{'arts_grants_2014': '3119145', 'display_name': 'Idaho', 'population': '1416564'}\n",
      "{'arts_grants_2014': '170409832', 'display_name': 'Illinois', 'population': '12772888'}\n",
      "{'arts_grants_2014': '46236836', 'display_name': 'Indiana', 'population': '6265933'}\n",
      "{'arts_grants_2014': '8277964', 'display_name': 'Iowa', 'population': '2955010'}\n",
      "{'arts_grants_2014': '7086984', 'display_name': 'Kansas', 'population': '2740759'}\n",
      "{'arts_grants_2014': '19897897', 'display_name': 'Kentucky', 'population': '4206074'}\n",
      "{'arts_grants_2014': '13579452', 'display_name': 'Louisiana', 'population': '4515939'}\n",
      "{'arts_grants_2014': '9087302', 'display_name': 'Maine', 'population': '1325518'}\n",
      "{'arts_grants_2014': '20395433', 'display_name': 'Maryland', 'population': '5624246'}\n",
      "{'arts_grants_2014': '149368325', 'display_name': 'Massachusetts', 'population': '6433422'}\n",
      "{'arts_grants_2014': '86199283', 'display_name': 'Michigan', 'population': '9883360'}\n",
      "{'arts_grants_2014': '89767506', 'display_name': 'Minnesota', 'population': '5141953'}\n",
      "{'arts_grants_2014': '3115839', 'display_name': 'Mississippi', 'population': '2901371'}\n",
      "{'arts_grants_2014': '78790181', 'display_name': 'Missouri', 'population': '5768151'}\n",
      "{'arts_grants_2014': '5733124', 'display_name': 'Montana', 'population': '930698'}\n",
      "{'arts_grants_2014': '24033693', 'display_name': 'Nebraska', 'population': '1757399'}\n",
      "{'arts_grants_2014': '6691353', 'display_name': 'Nevada', 'population': '2399532'}\n",
      "{'arts_grants_2014': '8198690', 'display_name': 'New Hampshire', 'population': '1316216'}\n",
      "{'arts_grants_2014': '29500068', 'display_name': 'New Jersey', 'population': '8751436'}\n",
      "{'arts_grants_2014': '11049424', 'display_name': 'New Mexico', 'population': '1912684'}\n",
      "{'arts_grants_2014': '653407487', 'display_name': 'New York', 'population': '19274244'}\n",
      "{'arts_grants_2014': '33412552', 'display_name': 'North Carolina', 'population': '8611367'}\n",
      "{'arts_grants_2014': '1106609', 'display_name': 'North Dakota', 'population': '630529'}\n",
      "{'arts_grants_2014': '98047340', 'display_name': 'Ohio', 'population': '11467123'}\n",
      "{'arts_grants_2014': '19607468', 'display_name': 'Oklahoma', 'population': '3547049'}\n",
      "{'arts_grants_2014': '22827242', 'display_name': 'Oregon', 'population': '3642919'}\n",
      "{'arts_grants_2014': '164343581', 'display_name': 'Pennsylvania', 'population': '12440621'}\n",
      "{'arts_grants_2014': '11994787', 'display_name': 'Rhode Island', 'population': '1050292'}\n",
      "{'arts_grants_2014': '10061169', 'display_name': 'South Carolina', 'population': '4229842'}\n",
      "{'arts_grants_2014': '808249', 'display_name': 'South Dakota', 'population': '770184'}\n",
      "{'arts_grants_2014': '28351681', 'display_name': 'Tennessee', 'population': '5935099'}\n",
      "{'arts_grants_2014': '218145267', 'display_name': 'Texas', 'population': '22875689'}\n",
      "{'arts_grants_2014': '25701109', 'display_name': 'Utah', 'population': '2427340'}\n",
      "{'arts_grants_2014': '6099314', 'display_name': 'Vermont', 'population': '624501'}\n",
      "{'arts_grants_2014': '57324542', 'display_name': 'Virginia', 'population': '7642884'}\n",
      "{'arts_grants_2014': '41851398', 'display_name': 'Washington', 'population': '6271775'}\n",
      "{'arts_grants_2014': '2062751', 'display_name': 'West Virginia', 'population': '1817871'}\n",
      "{'arts_grants_2014': '29379433', 'display_name': 'Wisconsin', 'population': '5535168'}\n",
      "{'arts_grants_2014': '4633856', 'display_name': 'Wyoming', 'population': '505907'}\n"
     ]
    }
   ],
   "source": [
    "import csv\n",
    "with open(\"arts_funding_by_state.txt\") as csv_file:\n",
    "    rdr = csv.DictReader(csv_file, delimiter='\\t')\n",
    "    for row in rdr:\n",
    "        print (row)"
   ]
  },
  {
   "cell_type": "markdown",
   "metadata": {
    "collapsed": true
   },
   "source": [
    "### Question - Can you write code that reads the contents of the text file using the csvreader, and adds the funding per capita to each list/dictionary as an additional key / value pair?"
   ]
  },
  {
   "cell_type": "code",
   "execution_count": null,
   "metadata": {
    "collapsed": true
   },
   "outputs": [],
   "source": []
  },
  {
   "cell_type": "markdown",
   "metadata": {},
   "source": [
    "Here is some sample code for writing a text file.  "
   ]
  },
  {
   "cell_type": "code",
   "execution_count": 8,
   "metadata": {
    "collapsed": false
   },
   "outputs": [
    {
     "name": "stdout",
     "output_type": "stream",
     "text": [
      "done\n"
     ]
    }
   ],
   "source": [
    "import csv\n",
    "\n",
    "lines = []\n",
    "with open(\"arts_funding_by_state.txt\") as csv_file:\n",
    "    rdr = csv.reader(csv_file, delimiter='\\t')\n",
    "    for row in rdr:\n",
    "        lines.append([row[0], row[1], row[2], \"0\"])\n",
    "\n",
    "with open ('output.txt','a') as output_file:\n",
    "    for line in lines:\n",
    "        output_file.write(\"\\t\".join(line) + \"\\n\")\n",
    "\n",
    "print (\"done\")"
   ]
  },
  {
   "cell_type": "markdown",
   "metadata": {},
   "source": [
    "### Question: Can you write a program that appends the funding per capita column to the output?"
   ]
  },
  {
   "cell_type": "code",
   "execution_count": null,
   "metadata": {
    "collapsed": true
   },
   "outputs": [],
   "source": []
  },
  {
   "cell_type": "markdown",
   "metadata": {
    "collapsed": true
   },
   "source": [
    "### Reading data from SQL Server\n",
    "\n",
    "The class machines should be set up with access to the fc_sample database.  Here is sample code that shows how to connect and read data:"
   ]
  },
  {
   "cell_type": "code",
   "execution_count": 10,
   "metadata": {
    "collapsed": false
   },
   "outputs": [
    {
     "data": {
      "image/png": "[encoded data removed]",
      "text/plain": [
       "<matplotlib.figure.Figure at 0xa3c54e0>"
      ]
     },
     "metadata": {},
     "output_type": "display_data"
    }
   ],
   "source": [
    "import pyodbc\n",
    "import matplotlib.pyplot as plt\n",
    "\n",
    "cnxn = pyodbc.connect(\"DRIVER={SQL Server};SERVER=172.16.7.121;DATABASE=fc_sample;uid=python_class_user;pwd=C8cwS3fd\")\n",
    "sql = \"select top 10 gm_type, count(*) FROM grantmaker where isnull(gm_type, '') <> '' group by gm_type order by count(*) desc\"\n",
    "cursor = cnxn.cursor()\n",
    "values = []\n",
    "labels = []\n",
    "\n",
    "for row in cursor.execute(sql):\n",
    "    labels.append(row[0])\n",
    "    values.append(row[1])\n",
    "cursor.close()\n",
    "\n",
    "plt.xticks(range(len(values)), labels)\n",
    "plt.bar(range(len(values)), height=values)\n",
    "plt.show()"
   ]
  },
  {
   "cell_type": "markdown",
   "metadata": {},
   "source": [
    "Some other useful pyodbbc methods - more info here: https://code.google.com/archive/p/pyodbc/wikis/GettingStarted.wiki\n",
    "* execute - use this to execute any SQL, especially insert/update/delete. Note that .commit() on the database connection needs to be called for the save to be committed and visible to other db users.\n",
    "* fetchone - useful if you knot that your query only returns a single records.\n",
    "* fetchall - gets all records into a list."
   ]
  },
  {
   "cell_type": "markdown",
   "metadata": {},
   "source": [
    "### Question: can you write python code that queries the fc_sample database to get the number of recipients and grantmakers per state and compare the two in a scatterplot?\n",
    "\n",
    "The basic code for a scatterplot is:\n",
    "\n",
    "```\n",
    "import matplotlib.pyplot as plt\n",
    "\n",
    "plt.scatter([1,2,3,4,5], [1,2,3,4,5]) # Scatterplot\n",
    "plt.show()\n",
    "```\n",
    "\n",
    "This sql should work:\n",
    "```\n",
    "SELECT state, COUNT(*) FROM grantmaker WHERE ISNULL(state,'') <> '' GROUP BY state ORDER BY state\n",
    "\n",
    "SELECT state, COUNT(*) FROM recipient WHERE ISNULL(state,'') <> '' GROUP BY state ORDER BY state\n",
    "```"
   ]
  },
  {
   "cell_type": "code",
   "execution_count": 12,
   "metadata": {
    "collapsed": false
   },
   "outputs": [
    {
     "data": {
      "image/png": "[encoded data removed]",
      "text/plain": [
       "<matplotlib.figure.Figure at 0xbc137f0>"
      ]
     },
     "metadata": {},
     "output_type": "display_data"
    }
   ],
   "source": [
    "import matplotlib.pyplot as plt\n",
    "\n",
    "plt.scatter([1.0, 2.3, 4.5], [2.2, 3.0, 4.0]) # Scatterplot\n",
    "plt.show()"
   ]
  },
  {
   "cell_type": "markdown",
   "metadata": {},
   "source": [
    "***\n",
    "### Reading data from web services"
   ]
  },
  {
   "cell_type": "markdown",
   "metadata": {
    "collapsed": true
   },
   "source": [
    "Python dictionaries can be populated to JSON data from web serices.  The json library has two workhorse functions that handle most cases (loads (load string), and dumps (dump string))."
   ]
  },
  {
   "cell_type": "code",
   "execution_count": 13,
   "metadata": {
    "collapsed": false
   },
   "outputs": [
    {
     "name": "stdout",
     "output_type": "stream",
     "text": [
      "1112.21\n"
     ]
    }
   ],
   "source": [
    "# JSON - represents data objects (dictionaries) as a string. Can be converted directly to a dictionary in python:\n",
    "import json as js\n",
    "json_string = '{ \"test1\": 987.65, \"test2\": 124.56 }'\n",
    "obj = js.loads(json_string)\n",
    "print (obj[\"test1\"] + obj[\"test2\"])"
   ]
  },
  {
   "cell_type": "markdown",
   "metadata": {
    "collapsed": true
   },
   "source": [
    "The requests library (http://docs.python-requests.org/en/master/user/quickstart/) lets us read data from web sites, for example:"
   ]
  },
  {
   "cell_type": "code",
   "execution_count": 14,
   "metadata": {
    "collapsed": false
   },
   "outputs": [
    {
     "name": "stdout",
     "output_type": "stream",
     "text": [
      "<!doctype html><html itemscope=\"\" itemtype=\"http://schema.org/WebPage\" lang=\"en\"><head><meta content=\"Search the world's information, including webpages, images, videos and more. Google has many special features to help you find exactly what you're looking for.\" name=\"description\"><meta content=\"noodp\" name=\"robots\"><meta content=\"text/html; charset=UTF-8\" http-equiv=\"Content-Type\"><meta content=\"/images/branding/googleg/1x/googleg_standard_color_128dp.png\" itemprop=\"image\"><title>Google</title><script>(function(){window.google={kEI:'ofD4WJOMC8nhaaeih6AO',kEXPI:'18167,201761,1352864,1352961,1352992,1353038,1353097,1353106,1353326,3700062,3700302,3700347,3700405,4003510,4029815,4031109,4032678,4036527,4039268,4041899,4043492,4045839,4048347,4065787,4066196,4071842,4072364,4072776,4075963,4076095,4076999,4078430,4079423,4081039,4081164,4082441,4089200,4090550,4090553,4090806,4092627,4092934,4093313,4093549,4093813,4094040,4094251,4094544,4094837,4095558,4095909,4095997,4096324,4097153,4097951,4098721,4098728,4098752,4099784,4099829,4099964,4100109,4100116,4100169,4100379,4100828,4101376,4101429,4101654,4101684,4101750,4102022,4102090,4102101,4102827,4102831,4103475,4103845,4103849,4104527,4104723,4105085,4105113,4105122,4105317,4105321,4105470,4105648,4106176,4106949,4107223,4107395,4107422,4107428,4107437,4107450,4107453,4107455,4107553,4107628,4107866,4107898,4107965,4107989,4108870,8503585,8507380,8508229,8508706,8508931,8509037,8509373,10200083,19002006,19002011,19002022,19002023,19002025,41027340',authuser:0,kscs:'c9c918f0_24'};google.kHL='en';})();(function(){google.lc=[];google.li=0;google.getEI=function(a){for(var b;a&&(!a.getAttribute||!(b=a.getAttribute(\"eid\")));)a=a.parentNode;return b||google.kEI};google.getLEI=function(a){for(var b=null;a&&(!a.getAttribute||!(b=a.getAttribute(\"leid\")));)a=a.parentNode;return b};google.https=function(){return\"https:\"==window.location.protocol};google.ml=function(){return null};google.wl=function(a,b){try{google.ml(Error(a),!1,b)}catch(c){}};google.time=function(){return(new Date).getTime()};google.log=function(a,b,c,d,g){a=google.logUrl(a,b,c,d,g);if(\"\"!=a){b=new Image;var e=google.lc,f=google.li;e[f]=b;b.onerror=b.onload=b.onabort=function(){delete e[f]};window.google&&window.google.vel&&window.google.vel.lu&&window.google.vel.lu(a);b.src=a;google.li=f+1}};google.logUrl=function(a,b,c,d,g){var e=\"\",f=google.ls||\"\";c||-1!=b.search(\"&ei=\")||(e=\"&ei=\"+google.getEI(d),-1==b.search(\"&lei=\")&&(d=google.getLEI(d))&&(e+=\"&lei=\"+d));a=c||\"/\"+(g||\"gen_204\")+\"?atyp=i&ct=\"+a+\"&cad=\"+b+e+f+\"&zx=\"+google.time();/^http:/i.test(a)&&google.https()&&(google.ml(Error(\"a\"),!1,{src:a,glmm:1}),a=\"\");return a};google.y={};google.x=function(a,b){google.y[a.id]=[a,b];return!1};google.lq=[];google.load=function(a,b,c){google.lq.push([[a],b,c])};google.loadAll=function(a,b){google.lq.push([a,b])};}).call(this);var a=window.location,b=a.href.indexOf(\"#\");if(0<=b){var c=a.href.substring(b+1);/(^|&)q=/.test(c)&&-1==c.indexOf(\"#\")&&a.replace(\"/search?\"+c.replace(/(^|&)fp=[^&]*/g,\"\")+\"&cad=h\")};</script><style>#gbar,#guser{font-size:13px;padding-top:1px !important;}#gbar{height:22px}#guser{padding-bottom:7px !important;text-align:right}.gbh,.gbd{border-top:1px solid #c9d7f1;font-size:1px}.gbh{height:0;position:absolute;top:24px;width:100%}@media all{.gb1{height:22px;margin-right:.5em;vertical-align:top}#gbar{float:left}}a.gb1,a.gb4{text-decoration:underline !important}a.gb1,a.gb4{color:#00c !important}.gbi .gb4{color:#dd8e27 !important}.gbf .gb4{color:#900 !important}\n",
      "</style><style>body,td,a,p,.h{font-family:arial,sans-serif}body{margin:0;overflow-y:scroll}#gog{padding:3px 8px 0}td{line-height:.8em}.gac_m td{line-height:17px}form{margin-bottom:20px}.h{color:#36c}.q{color:#00c}.ts td{padding:0}.ts{border-collapse:collapse}em{font-weight:bold;font-style:normal}.lst{height:25px;width:496px}.gsfi,.lst{font:18px arial,sans-serif}.gsfs{font:17px arial,sans-serif}.ds{display:inline-box;display:inline-block;margin:3px 0 4px;margin-left:4px}input{font-family:inherit}a.gb1,a.gb2,a.gb3,a.gb4{color:#11c !important}body{background:#fff;color:black}a{color:#11c;text-decoration:none}a:hover,a:active{text-decoration:underline}.fl a{color:#36c}a:visited{color:#551a8b}a.gb1,a.gb4{text-decoration:underline}a.gb3:hover{text-decoration:none}#ghead a.gb2:hover{color:#fff !important}.sblc{padding-top:5px}.sblc a{display:block;margin:2px 0;margin-left:13px;font-size:11px}.lsbb{background:#eee;border:solid 1px;border-color:#ccc #999 #999 #ccc;height:30px}.lsbb{display:block}.ftl,#fll a{display:inline-block;margin:0 12px}.lsb{background:url(/images/nav_logo229.png) 0 -261px repeat-x;border:none;color:#000;cursor:pointer;height:30px;margin:0;outline:0;font:15px arial,sans-serif;vertical-align:top}.lsb:active{background:#ccc}.lst:focus{outline:none}</style><script></script><link href=\"/images/branding/product/ico/googleg_lodp.ico\" rel=\"shortcut icon\"></head><body bgcolor=\"#fff\"><script>(function(){var src='/images/nav_logo229.png';var iesg=false;document.body.onload = function(){window.n && window.n();if (document.images){new Image().src=src;}\n",
      "if (!iesg){document.f&&document.f.q.focus();document.gbqf&&document.gbqf.q.focus();}\n",
      "}\n",
      "})();</script><div id=\"mngb\"> <div id=gbar><nobr><b class=gb1>Search</b> <a class=gb1 href=\"http://www.google.com/imghp?hl=en&tab=wi\">Images</a> <a class=gb1 href=\"http://maps.google.com/maps?hl=en&tab=wl\">Maps</a> <a class=gb1 href=\"https://play.google.com/?hl=en&tab=w8\">Play</a> <a class=gb1 href=\"http://www.youtube.com/?tab=w1\">YouTube</a> <a class=gb1 href=\"http://news.google.com/nwshp?hl=en&tab=wn\">News</a> <a class=gb1 href=\"https://mail.google.com/mail/?tab=wm\">Gmail</a> <a class=gb1 href=\"https://drive.google.com/?tab=wo\">Drive</a> <a class=gb1 style=\"text-decoration:none\" href=\"https://www.google.com/intl/en/options/\"><u>More</u> &raquo;</a></nobr></div><div id=guser width=100%><nobr><span id=gbn class=gbi></span><span id=gbf class=gbf></span><span id=gbe></span><a href=\"http://www.google.com/history/optout?hl=en\" class=gb4>Web History</a> | <a  href=\"/preferences?hl=en\" class=gb4>Settings</a> | <a target=_top id=gb_70 href=\"https://accounts.google.com/ServiceLogin?hl=en&passive=true&continue=http://www.google.com/\" class=gb4>Sign in</a></nobr></div><div class=gbh style=left:0></div><div class=gbh style=right:0></div> </div><center><br clear=\"all\" id=\"lgpd\"><div id=\"lga\"><img alt=\"Google\" height=\"92\" src=\"/images/branding/googlelogo/1x/googlelogo_white_background_color_272x92dp.png\" style=\"padding:28px 0 14px\" width=\"272\" id=\"hplogo\" onload=\"window.lol&&lol()\"><br><br></div><form action=\"/search\" name=\"f\"><table cellpadding=\"0\" cellspacing=\"0\"><tr valign=\"top\"><td width=\"25%\">&nbsp;</td><td align=\"center\" nowrap=\"\"><input name=\"ie\" value=\"ISO-8859-1\" type=\"hidden\"><input value=\"en\" name=\"hl\" type=\"hidden\"><input name=\"source\" type=\"hidden\" value=\"hp\"><input name=\"biw\" type=\"hidden\"><input name=\"bih\" type=\"hidden\"><div class=\"ds\" style=\"height:32px;margin:4px 0\"><input style=\"color:#000;margin:0;padding:5px 8px 0 6px;vertical-align:top\" autocomplete=\"off\" class=\"lst\" value=\"\" title=\"Google Search\" maxlength=\"2048\" name=\"q\" size=\"57\"></div><br style=\"line-height:0\"><span class=\"ds\"><span class=\"lsbb\"><input class=\"lsb\" value=\"Google Search\" name=\"btnG\" type=\"submit\"></span></span><span class=\"ds\"><span class=\"lsbb\"><input class=\"lsb\" value=\"I'm Feeling Lucky\" name=\"btnI\" onclick=\"if(this.form.q.value)this.checked=1; else top.location='/doodles/'\" type=\"submit\"></span></span></td><td class=\"fl sblc\" align=\"left\" nowrap=\"\" width=\"25%\"><a href=\"/advanced_search?hl=en&amp;authuser=0\">Advanced search</a><a href=\"/language_tools?hl=en&amp;authuser=0\">Language tools</a></td></tr></table><input id=\"gbv\" name=\"gbv\" type=\"hidden\" value=\"1\"></form><div id=\"gac_scont\"></div><div style=\"font-size:83%;min-height:3.5em\"><br></div><span id=\"footer\"><div style=\"font-size:10pt\"><div style=\"margin:19px auto;text-align:center\" id=\"fll\"><a href=\"/intl/en/ads/\">Advertising Programs</a><a href=\"/services/\">Business Solutions</a><a href=\"https://plus.google.com/116899029375914044550\" rel=\"publisher\">+Google</a><a href=\"/intl/en/about.html\">About Google</a></div></div><p style=\"color:#767676;font-size:8pt\">&copy; 2017 - <a href=\"/intl/en/policies/privacy/\">Privacy</a> - <a href=\"/intl/en/policies/terms/\">Terms</a></p></span></center><script>(function(){window.google.cdo={height:0,width:0};(function(){var a=window.innerWidth,b=window.innerHeight;if(!a||!b)var c=window.document,d=\"CSS1Compat\"==c.compatMode?c.documentElement:c.body,a=d.clientWidth,b=d.clientHeight;a&&b&&(a!=google.cdo.width||b!=google.cdo.height)&&google.log(\"\",\"\",\"/client_204?&atyp=i&biw=\"+a+\"&bih=\"+b+\"&ei=\"+google.kEI);}).call(this);})();</script><div id=\"xjsd\"></div><div id=\"xjsi\"><script>(function(){function c(b){window.setTimeout(function(){var a=document.createElement(\"script\");a.src=b;document.getElementById(\"xjsd\").appendChild(a)},0)}google.dljp=function(b,a){google.xjsu=b;c(a)};google.dlj=c;}).call(this);(function(){window.google.xjsrm=[];})();if(google.y)google.y.first=[];if(!google.xjs){window._=window._||{};window._DumpException=window._._DumpException=function(e){throw e};if(google.timers&&google.timers.load.t){google.timers.load.t.xjsls=new Date().getTime();}google.dljp('/xjs/_/js/k\\x3dxjs.hp.en_US.tmSBugvN-Hw.O/m\\x3dsb_he,d/am\\x3dABA/rt\\x3dj/d\\x3d1/t\\x3dzcms/rs\\x3dACT90oEqUR_3h_F7n23d504bWfA89w6QQA','/xjs/_/js/k\\x3dxjs.hp.en_US.tmSBugvN-Hw.O/m\\x3dsb_he,d/am\\x3dABA/rt\\x3dj/d\\x3d1/t\\x3dzcms/rs\\x3dACT90oEqUR_3h_F7n23d504bWfA89w6QQA');google.xjs=1;}google.pmc={\"sb_he\":{\"agen\":true,\"cgen\":true,\"client\":\"heirloom-hp\",\"dh\":true,\"dhqt\":true,\"ds\":\"\",\"fl\":true,\"host\":\"google.com\",\"isbh\":28,\"jam\":0,\"jsonp\":true,\"msgs\":{\"cibl\":\"Clear Search\",\"dym\":\"Did you mean:\",\"lcky\":\"I\\u0026#39;m Feeling Lucky\",\"lml\":\"Learn more\",\"oskt\":\"Input tools\",\"psrc\":\"This search was removed from your \\u003Ca href=\\\"/history\\\"\\u003EWeb History\\u003C/a\\u003E\",\"psrl\":\"Remove\",\"sbit\":\"Search by image\",\"srch\":\"Google Search\"},\"nds\":true,\"ovr\":{},\"pq\":\"\",\"refpd\":true,\"rfs\":[],\"sbpl\":24,\"sbpr\":24,\"scd\":10,\"sce\":5,\"stok\":\"TACmkgFELGFs_zYaoWJqWOK-H5k\"},\"d\":{},\"YFCs/g\":{}};google.y.first.push(function(){if(google.med){google.med('init');google.initHistory();google.med('history');}});if(google.j&&google.j.en&&google.j.xi){window.setTimeout(google.j.xi,0);}\n",
      "</script></div></body></html>\n"
     ]
    }
   ],
   "source": [
    "import requests\n",
    "r = requests.get('http://google.com')\n",
    "print (r.text)"
   ]
  },
  {
   "cell_type": "markdown",
   "metadata": {},
   "source": [
    "Reading json data from a web service"
   ]
  },
  {
   "cell_type": "code",
   "execution_count": 15,
   "metadata": {
    "collapsed": false
   },
   "outputs": [
    {
     "name": "stdout",
     "output_type": "stream",
     "text": [
      "{\n",
      "  \"totalResultsCount\": 9473, \n",
      "  \"geonames\": [\n",
      "    {\n",
      "      \"fcode\": \"PPL\", \n",
      "      \"countryId\": \"6252001\", \n",
      "      \"name\": \"New York\", \n",
      "      \"countryCode\": \"US\", \n",
      "      \"geonameId\": 5128581, \n",
      "      \"toponymName\": \"New York City\", \n",
      "      \"fclName\": \"city, village,...\", \n",
      "      \"fcodeName\": \"populated place\", \n",
      "      \"countryName\": \"United States\", \n",
      "      \"lat\": \"40.71427\", \n",
      "      \"lng\": \"-74.00597\", \n",
      "      \"adminName1\": \"New York\", \n",
      "      \"fcl\": \"P\", \n",
      "      \"adminCode1\": \"NY\", \n",
      "      \"population\": 8175133\n",
      "    }, \n",
      "    {\n",
      "      \"fcode\": \"PPLA2\", \n",
      "      \"countryId\": \"6252001\", \n",
      "      \"name\": \"Brooklyn\", \n",
      "      \"countryCode\": \"US\", \n",
      "      \"geonameId\": 5110302, \n",
      "      \"toponymName\": \"Brooklyn\", \n",
      "      \"fclName\": \"city, village,...\", \n",
      "      \"fcodeName\": \"seat of a second-order administrative division\", \n",
      "      \"countryName\": \"United States\", \n",
      "      \"lat\": \"40.6501\", \n",
      "      \"lng\": \"-73.94958\", \n",
      "      \"adminName1\": \"New York\", \n",
      "      \"fcl\": \"P\", \n",
      "      \"adminCode1\": \"NY\", \n",
      "      \"population\": 2300664\n",
      "    }, \n",
      "    {\n",
      "      \"fcode\": \"ADM1\", \n",
      "      \"countryId\": \"6252001\", \n",
      "      \"name\": \"New York\", \n",
      "      \"countryCode\": \"US\", \n",
      "      \"geonameId\": 5128638, \n",
      "      \"toponymName\": \"New York\", \n",
      "      \"fclName\": \"country, state, region,...\", \n",
      "      \"fcodeName\": \"first-order administrative division\", \n",
      "      \"countryName\": \"United States\", \n",
      "      \"lat\": \"43.00035\", \n",
      "      \"lng\": \"-75.4999\", \n",
      "      \"adminName1\": \"New York\", \n",
      "      \"fcl\": \"A\", \n",
      "      \"adminCode1\": \"NY\", \n",
      "      \"population\": 19274244\n",
      "    }, \n",
      "    {\n",
      "      \"fcode\": \"PPLA2\", \n",
      "      \"countryId\": \"6252001\", \n",
      "      \"name\": \"Manhattan\", \n",
      "      \"countryCode\": \"US\", \n",
      "      \"geonameId\": 5125771, \n",
      "      \"toponymName\": \"Manhattan\", \n",
      "      \"fclName\": \"city, village,...\", \n",
      "      \"fcodeName\": \"seat of a second-order administrative division\", \n",
      "      \"countryName\": \"United States\", \n",
      "      \"lat\": \"40.78343\", \n",
      "      \"lng\": \"-73.96625\", \n",
      "      \"adminName1\": \"New York\", \n",
      "      \"fcl\": \"P\", \n",
      "      \"adminCode1\": \"NY\", \n",
      "      \"population\": 1487536\n",
      "    }, \n",
      "    {\n",
      "      \"fcode\": \"PPLA2\", \n",
      "      \"countryId\": \"6252001\", \n",
      "      \"name\": \"Borough of Queens\", \n",
      "      \"countryCode\": \"US\", \n",
      "      \"geonameId\": 5133273, \n",
      "      \"toponymName\": \"Borough of Queens\", \n",
      "      \"fclName\": \"city, village,...\", \n",
      "      \"fcodeName\": \"seat of a second-order administrative division\", \n",
      "      \"countryName\": \"United States\", \n",
      "      \"lat\": \"40.68149\", \n",
      "      \"lng\": \"-73.83652\", \n",
      "      \"adminName1\": \"New York\", \n",
      "      \"fcl\": \"P\", \n",
      "      \"adminCode1\": \"NY\", \n",
      "      \"population\": 2272771\n",
      "    }, \n",
      "    {\n",
      "      \"fcode\": \"PPLA\", \n",
      "      \"countryId\": \"6252001\", \n",
      "      \"name\": \"Albany\", \n",
      "      \"countryCode\": \"US\", \n",
      "      \"geonameId\": 5106834, \n",
      "      \"toponymName\": \"Albany\", \n",
      "      \"fclName\": \"city, village,...\", \n",
      "      \"fcodeName\": \"seat of a first-order administrative division\", \n",
      "      \"countryName\": \"United States\", \n",
      "      \"lat\": \"42.65258\", \n",
      "      \"lng\": \"-73.75623\", \n",
      "      \"adminName1\": \"New York\", \n",
      "      \"fcl\": \"P\", \n",
      "      \"adminCode1\": \"NY\", \n",
      "      \"population\": 98469\n",
      "    }, \n",
      "    {\n",
      "      \"fcode\": \"PPLA2\", \n",
      "      \"countryId\": \"6252001\", \n",
      "      \"name\": \"Buffalo\", \n",
      "      \"countryCode\": \"US\", \n",
      "      \"geonameId\": 5110629, \n",
      "      \"toponymName\": \"Buffalo\", \n",
      "      \"fclName\": \"city, village,...\", \n",
      "      \"fcodeName\": \"seat of a second-order administrative division\", \n",
      "      \"countryName\": \"United States\", \n",
      "      \"lat\": \"42.88645\", \n",
      "      \"lng\": \"-78.87837\", \n",
      "      \"adminName1\": \"New York\", \n",
      "      \"fcl\": \"P\", \n",
      "      \"adminCode1\": \"NY\", \n",
      "      \"population\": 258071\n",
      "    }, \n",
      "    {\n",
      "      \"fcode\": \"PPLA2\", \n",
      "      \"countryId\": \"6252001\", \n",
      "      \"name\": \"Syracuse\", \n",
      "      \"countryCode\": \"US\", \n",
      "      \"geonameId\": 5140405, \n",
      "      \"toponymName\": \"Syracuse\", \n",
      "      \"fclName\": \"city, village,...\", \n",
      "      \"fcodeName\": \"seat of a second-order administrative division\", \n",
      "      \"countryName\": \"United States\", \n",
      "      \"lat\": \"43.04812\", \n",
      "      \"lng\": \"-76.14742\", \n",
      "      \"adminName1\": \"New York\", \n",
      "      \"fcl\": \"P\", \n",
      "      \"adminCode1\": \"NY\", \n",
      "      \"population\": 144142\n",
      "    }, \n",
      "    {\n",
      "      \"fcode\": \"PPLA2\", \n",
      "      \"countryId\": \"6252001\", \n",
      "      \"name\": \"Rochester\", \n",
      "      \"countryCode\": \"US\", \n",
      "      \"geonameId\": 5134086, \n",
      "      \"toponymName\": \"Rochester\", \n",
      "      \"fclName\": \"city, village,...\", \n",
      "      \"fcodeName\": \"seat of a second-order administrative division\", \n",
      "      \"countryName\": \"United States\", \n",
      "      \"lat\": \"43.15478\", \n",
      "      \"lng\": \"-77.61556\", \n",
      "      \"adminName1\": \"New York\", \n",
      "      \"fcl\": \"P\", \n",
      "      \"adminCode1\": \"NY\", \n",
      "      \"population\": 209802\n",
      "    }, \n",
      "    {\n",
      "      \"fcode\": \"PPL\", \n",
      "      \"countryId\": \"6252001\", \n",
      "      \"name\": \"Yonkers\", \n",
      "      \"countryCode\": \"US\", \n",
      "      \"geonameId\": 5145215, \n",
      "      \"toponymName\": \"Yonkers\", \n",
      "      \"fclName\": \"city, village,...\", \n",
      "      \"fcodeName\": \"populated place\", \n",
      "      \"countryName\": \"United States\", \n",
      "      \"lat\": \"40.93121\", \n",
      "      \"lng\": \"-73.89875\", \n",
      "      \"adminName1\": \"New York\", \n",
      "      \"fcl\": \"P\", \n",
      "      \"adminCode1\": \"NY\", \n",
      "      \"population\": 201116\n",
      "    }\n",
      "  ]\n",
      "}\n"
     ]
    }
   ],
   "source": [
    "import requests\n",
    "import json\n",
    "r = requests.get(\"http://ws.geonames.net/searchJSON?featureClass=A&featureClass=P&maxRows=10&username=fcgis&q=New York\")\n",
    "obj = json.loads(r.text)\n",
    "print(json.dumps(obj, indent=2))"
   ]
  },
  {
   "cell_type": "markdown",
   "metadata": {
    "collapsed": true
   },
   "source": [
    "Accesing data from new FC API Beta:"
   ]
  },
  {
   "cell_type": "code",
   "execution_count": 16,
   "metadata": {
    "collapsed": false
   },
   "outputs": [
    {
     "name": "stdout",
     "output_type": "stream",
     "text": [
      "{\n",
      "  \"meta\": {\n",
      "    \"status\": \"We were unable to authenticate your request.  Please log in again with valid credentials.\", \n",
      "    \"code\": 401, \n",
      "    \"attribution\": \"\", \n",
      "    \"time\": \"2017-04-20 13:32:30\", \n",
      "    \"usage\": null, \n",
      "    \"query\": \"/v2.0/aggregates/funding\"\n",
      "  }, \n",
      "  \"data\": {\n",
      "    \"count\": 0, \n",
      "    \"results\": null\n",
      "  }\n",
      "}\n"
     ]
    }
   ],
   "source": [
    "import requests\n",
    "import base64 as ba\n",
    "import json as js\n",
    "\n",
    "s = requests.Session()\n",
    "s.auth = ('[provided in class]', '[privided in class]')\n",
    "\n",
    "r = s.get('https://apibeta.foundationcenter.org/v2.0/aggregates/funding')\n",
    "obj = json.loads(r.text)\n",
    "print(json.dumps(obj, indent=2))"
   ]
  },
  {
   "cell_type": "markdown",
   "metadata": {},
   "source": [
    "### Question - Using the documentation at apibeta.foundationcenter.org, can you write a program that gets the top 10 2014 recipients by amounts of grants related to museums?"
   ]
  },
  {
   "cell_type": "code",
   "execution_count": null,
   "metadata": {
    "collapsed": true
   },
   "outputs": [],
   "source": []
  }
 ],
 "metadata": {
  "anaconda-cloud": {},
  "kernelspec": {
   "display_name": "Python 2",
   "language": "python",
   "name": "python2"
  },
  "language_info": {
   "codemirror_mode": {
    "name": "ipython",
    "version": 2
   },
   "file_extension": ".py",
   "mimetype": "text/x-python",
   "name": "python",
   "nbconvert_exporter": "python",
   "pygments_lexer": "ipython2",
   "version": "2.7.12"
  }
 },
 "nbformat": 4,
 "nbformat_minor": 0
}
