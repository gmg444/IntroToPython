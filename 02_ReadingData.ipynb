{
 "cells": [
  {
   "cell_type": "code",
   "execution_count": null,
   "metadata": {
    "collapsed": true
   },
   "outputs": [],
   "source": [
    "%matplotlib inline"
   ]
  },
  {
   "cell_type": "markdown",
   "metadata": {},
   "source": [
    "## Reading data from text files"
   ]
  },
  {
   "cell_type": "markdown",
   "metadata": {},
   "source": [
    "Note backslash indicates escape characters - see https://learnpythonthehardway.org/book/ex10.html "
   ]
  },
  {
   "cell_type": "code",
   "execution_count": null,
   "metadata": {
    "collapsed": false
   },
   "outputs": [],
   "source": [
    "with open(\"arts_funding_by_state.txt\") as f:\n",
    "    content = f.readlines()\n",
    "    for row in content:\n",
    "        print(row.replace(\"\\n\", \"\"))"
   ]
  },
  {
   "cell_type": "markdown",
   "metadata": {
    "collapsed": true
   },
   "source": [
    "We can use the split function to split the lines into lists or a dictionary. In this case the lines are tab-delimited:"
   ]
  },
  {
   "cell_type": "code",
   "execution_count": null,
   "metadata": {
    "collapsed": false
   },
   "outputs": [],
   "source": [
    "with open(\"arts_funding_by_state.txt\") as f:\n",
    "    content = f.readlines()\n",
    "    split_results = []\n",
    "    for row in content:\n",
    "        lst = row.replace(\"\\n\", \"\").split(\"\\t\")\n",
    "        split_results.append(lst)\n",
    "    print(split_results)"
   ]
  },
  {
   "cell_type": "code",
   "execution_count": null,
   "metadata": {
    "collapsed": false
   },
   "outputs": [],
   "source": [
    "with open(\"arts_funding_by_state.txt\") as f:\n",
    "    next(f)  # Skip over header line\n",
    "    content = f.readlines()\n",
    "    dict_results = dict()\n",
    "    for row in content:\n",
    "        lst = row.replace(\"\\n\", \"\").split(\"\\t\")\n",
    "        dict_results[lst[0]] = { \"population\": lst[1], \"funding\": lst[2] }\n",
    "    print(dict_results)"
   ]
  },
  {
   "cell_type": "markdown",
   "metadata": {},
   "source": [
    "Reading data using the CSV Reader - handles some of the complexities for you. it also supports reading text into a dictionary:"
   ]
  },
  {
   "cell_type": "code",
   "execution_count": null,
   "metadata": {
    "collapsed": false
   },
   "outputs": [],
   "source": [
    "import csv\n",
    "with open(\"arts_funding_by_state.txt\") as csv_file:\n",
    "    rdr = csv.reader(csv_file, delimiter='\\t')\n",
    "    for row in rdr:\n",
    "        print (row[0], row[1], row[2])"
   ]
  },
  {
   "cell_type": "markdown",
   "metadata": {
    "collapsed": true
   },
   "source": [
    "Reading data from text files into a dictionary for each line."
   ]
  },
  {
   "cell_type": "code",
   "execution_count": null,
   "metadata": {
    "collapsed": false
   },
   "outputs": [],
   "source": [
    "import csv\n",
    "with open(\"arts_funding_by_state.txt\") as csv_file:\n",
    "    rdr = csv.DictReader(csv_file, delimiter='\\t')\n",
    "    for row in rdr:\n",
    "        print (row)"
   ]
  },
  {
   "cell_type": "markdown",
   "metadata": {
    "collapsed": true
   },
   "source": [
    "### Question - Can you write code that reads the contents of the text file using the csvreader, and adds the funding per capita to each list/dictionary as an additional key / value pair?"
   ]
  },
  {
   "cell_type": "code",
   "execution_count": null,
   "metadata": {
    "collapsed": true
   },
   "outputs": [],
   "source": []
  },
  {
   "cell_type": "markdown",
   "metadata": {},
   "source": [
    "Here is some sample code for writing a text file.  "
   ]
  },
  {
   "cell_type": "code",
   "execution_count": null,
   "metadata": {
    "collapsed": false
   },
   "outputs": [],
   "source": [
    "import csv\n",
    "\n",
    "lines = []\n",
    "with open(\"arts_funding_by_state.txt\") as csv_file:\n",
    "    rdr = csv.reader(csv_file, delimiter='\\t')\n",
    "    for row in rdr:\n",
    "        lines.append([row[0], row[1], row[2], \"0\"])\n",
    "\n",
    "with open ('output.txt','a') as output_file:\n",
    "    for line in lines:\n",
    "        output_file.write(\"\\t\".join(line) + \"\\n\")\n",
    "\n",
    "print (\"done\")"
   ]
  },
  {
   "cell_type": "markdown",
   "metadata": {},
   "source": [
    "### Question: Can you write a program that appends the funding per capita column to the output?"
   ]
  },
  {
   "cell_type": "code",
   "execution_count": null,
   "metadata": {
    "collapsed": true
   },
   "outputs": [],
   "source": []
  },
  {
   "cell_type": "markdown",
   "metadata": {
    "collapsed": true
   },
   "source": [
    "### Reading data from SQL Server\n",
    "\n",
    "The class machines should be set up with access to the fc_sample database.  Here is sample code that shows how to connect and read data:"
   ]
  },
  {
   "cell_type": "code",
   "execution_count": null,
   "metadata": {
    "collapsed": false
   },
   "outputs": [],
   "source": [
    "import pyodbc\n",
    "import matplotlib.pyplot as plt\n",
    "\n",
    "cnxn = pyodbc.connect(\"DRIVER={SQL Server};SERVER=172.16.7.121;DATABASE=fc_sample;uid=python_class_user;pwd=[provided in class]\")\n",
    "sql = \"select top 10 gm_type, count(*) FROM grantmaker where isnull(gm_type, '') <> '' group by gm_type order by count(*) desc\"\n",
    "cursor = cnxn.cursor()\n",
    "values = []\n",
    "labels = []\n",
    "\n",
    "for row in cursor.execute(sql):\n",
    "    labels.append(row[0])\n",
    "    values.append(row[1])\n",
    "cursor.close()\n",
    "\n",
    "plt.xticks(range(len(values)), labels)\n",
    "plt.bar(range(len(values)), height=values)\n",
    "plt.show()"
   ]
  },
  {
   "cell_type": "markdown",
   "metadata": {},
   "source": [
    "Some other useful pyodbbc methods - more info here: https://code.google.com/archive/p/pyodbc/wikis/GettingStarted.wiki\n",
    "* execute - use this to execute any SQL, especially insert/update/delete. Note that .commit() on the database connection needs to be called for the save to be committed and visible to other db users.\n",
    "* fetchone - useful if you knot that your query only returns a single records.\n",
    "* fetchall - gets all records into a list."
   ]
  },
  {
   "cell_type": "markdown",
   "metadata": {},
   "source": [
    "### Question: can you write python code that queries the fc_sample database to get the number of recipients and grantmakers per state and compare the two in a scatterplot?"
   ]
  },
  {
   "cell_type": "code",
   "execution_count": null,
   "metadata": {
    "collapsed": true
   },
   "outputs": [],
   "source": []
  },
  {
   "cell_type": "markdown",
   "metadata": {},
   "source": [
    "***\n",
    "### Reading data from web services"
   ]
  },
  {
   "cell_type": "markdown",
   "metadata": {
    "collapsed": true
   },
   "source": [
    "Python dictionaries can be populated to JSON data from web services.  The json library has two workhorse functions that handle most cases (loads (load string), and dumps (dump string))."
   ]
  },
  {
   "cell_type": "code",
   "execution_count": null,
   "metadata": {
    "collapsed": false
   },
   "outputs": [],
   "source": [
    "# JSON - represents data objects (dictionaries) as a string. Can be converted directly to a dictionary in python:\n",
    "import json as js\n",
    "json_string = '{ \"test1\": 987.65, \"test2\": 124.56 }'\n",
    "obj = js.loads(json_string)\n",
    "print (obj[\"test1\"] + obj[\"test2\"])"
   ]
  },
  {
   "cell_type": "markdown",
   "metadata": {
    "collapsed": true
   },
   "source": [
    "The requests library (http://docs.python-requests.org/en/master/user/quickstart/) lets us read data from web sites, for example:"
   ]
  },
  {
   "cell_type": "code",
   "execution_count": null,
   "metadata": {
    "collapsed": false
   },
   "outputs": [],
   "source": [
    "import requests\n",
    "r = requests.get('http://google.com')\n",
    "print (r.text)"
   ]
  },
  {
   "cell_type": "markdown",
   "metadata": {},
   "source": [
    "Reading json data from a web service"
   ]
  },
  {
   "cell_type": "code",
   "execution_count": null,
   "metadata": {
    "collapsed": false
   },
   "outputs": [],
   "source": [
    "import requests\n",
    "import json\n",
    "r = requests.get(\"http://ws.geonames.net/searchJSON?featureClass=A&featureClass=P&maxRows=10&username=fcgis&q=New York\")\n",
    "obj = json.loads(r.text)\n",
    "print(json.dumps(obj, indent=2))"
   ]
  },
  {
   "cell_type": "markdown",
   "metadata": {
    "collapsed": true
   },
   "source": [
    "Accesing data from new FC API Beta:"
   ]
  },
  {
   "cell_type": "code",
   "execution_count": null,
   "metadata": {
    "collapsed": false
   },
   "outputs": [],
   "source": [
    "import requests\n",
    "import base64 as ba\n",
    "import json as js\n",
    "\n",
    "s = requests.Session()\n",
    "s.auth = ('[provided in class]', '[privided in class]')\n",
    "\n",
    "r = s.get('https://apibeta.foundationcenter.org/v2.0/aggregates/funding')\n",
    "obj = json.loads(r.text)\n",
    "print(json.dumps(obj, indent=2))"
   ]
  },
  {
   "cell_type": "markdown",
   "metadata": {},
   "source": [
    "### Question - Using the documentation at apibeta.foundationcenter.org, can you write a program that gets the top 10 recipients of grants having to do with Museums in 2014, by grant amount?\n",
    "\n",
    "The PCS code for museums is \"SA07\", and the list/recipients endpoint should return the top 10 list.\n",
    "\n",
    "### Can you calculate the total amount given to those 10 recipients?\n",
    "\n",
    "### Can you create a bar chart of those 10 amounts to get an idea of the distribution?"
   ]
  },
  {
   "cell_type": "code",
   "execution_count": null,
   "metadata": {
    "collapsed": true
   },
   "outputs": [],
   "source": []
  },
  {
   "cell_type": "markdown",
   "metadata": {},
   "source": [
    "### Question - combining DB queries with API calls.  Supposed we wanted to get place identifiers mentioned in the grantmaker limitations text so we can put them on a map, for grantmakers located in Brooklyn. You can get this text from the fc_sample database with a query like the following:\n",
    "\n",
    "```\n",
    "SELECT \n",
    "    a.fcdbwin_gm_key, a.NAME, b.description \n",
    "FROM \n",
    "    grantmaker a INNER JOIN long_text b ON a.gm_key = b.gm_key \n",
    "WHERE \n",
    "    b.text_type = 'LM' AND a.state = 'NY' AND a.county = 'Kings' \n",
    "```\n",
    "The api call has this format:\n",
    "\n",
    "https://apibeta.foundationcenter.org/v2.0/text/entities?text=[text]\n",
    "\n",
    "Write a program that prints out the geoplace_keys referenced in this text for those grantmakers.\n",
    "\n",
    "### Can you print out a list of unique ids?\n",
    "\n"
   ]
  },
  {
   "cell_type": "code",
   "execution_count": null,
   "metadata": {
    "collapsed": true
   },
   "outputs": [],
   "source": []
  }
 ],
 "metadata": {
  "anaconda-cloud": {},
  "kernelspec": {
   "display_name": "Python [default]",
   "language": "python",
   "name": "python3"
  },
  "language_info": {
   "codemirror_mode": {
    "name": "ipython",
    "version": 3
   },
   "file_extension": ".py",
   "mimetype": "text/x-python",
   "name": "python",
   "nbconvert_exporter": "python",
   "pygments_lexer": "ipython3",
   "version": "3.5.2"
  }
 },
 "nbformat": 4,
 "nbformat_minor": 0
}
