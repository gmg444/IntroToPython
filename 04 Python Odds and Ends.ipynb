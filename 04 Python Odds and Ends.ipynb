{
 "cells": [
  {
   "cell_type": "markdown",
   "metadata": {},
   "source": [
    "## Odds and Ends"
   ]
  },
  {
   "cell_type": "markdown",
   "metadata": {},
   "source": [
    "There are a few additional features of Python that come up frequently, and that may be good to know about before getting into more Python libraries.  These are **list comprehensions**, **lambda functions**, **objects** and **exceptions**."
   ]
  },
  {
   "cell_type": "markdown",
   "metadata": {},
   "source": [
    "### List comprehensions\n",
    "\n",
    "We encountered these briefly before. This is a \"pythonic\" short-hand for list operations that lets you succinctly define operations on lists.  For example, this loop:"
   ]
  },
  {
   "cell_type": "code",
   "execution_count": null,
   "metadata": {
    "collapsed": false
   },
   "outputs": [],
   "source": [
    "import random\n",
    "\n",
    "my_list = []\n",
    "for i in range(10):\n",
    "    my_list.append(i + random.random())\n",
    "print (my_list)"
   ]
  },
  {
   "cell_type": "markdown",
   "metadata": {},
   "source": [
    "Can be written more simply as:"
   ]
  },
  {
   "cell_type": "code",
   "execution_count": null,
   "metadata": {
    "collapsed": false
   },
   "outputs": [],
   "source": [
    "my_list = [i + random.random() for i in range(10)]\n",
    "print (my_list)"
   ]
  },
  {
   "cell_type": "markdown",
   "metadata": {},
   "source": [
    "You can also add conditions to the comprehension:"
   ]
  },
  {
   "cell_type": "code",
   "execution_count": null,
   "metadata": {
    "collapsed": false
   },
   "outputs": [],
   "source": [
    "my_list = [i + random.random() for i in range(10) if i > 5]\n",
    "print (my_list)"
   ]
  },
  {
   "cell_type": "markdown",
   "metadata": {},
   "source": [
    "## Lambda Expressions"
   ]
  },
  {
   "cell_type": "markdown",
   "metadata": {},
   "source": [
    "So far we defined functions using this syntax:"
   ]
  },
  {
   "cell_type": "code",
   "execution_count": null,
   "metadata": {
    "collapsed": false
   },
   "outputs": [],
   "source": [
    "def f(name):\n",
    "    print (\"Hello \" + name + \"!\")\n",
    "    \n",
    "f(\"Bunny Rabbit\")"
   ]
  },
  {
   "cell_type": "markdown",
   "metadata": {},
   "source": [
    "f is now a function variable that can be reassigned:"
   ]
  },
  {
   "cell_type": "code",
   "execution_count": null,
   "metadata": {
    "collapsed": false
   },
   "outputs": [],
   "source": [
    "k = f\n",
    "k(\"Harold\")"
   ]
  },
  {
   "cell_type": "markdown",
   "metadata": {},
   "source": [
    "We can also use this syntax:"
   ]
  },
  {
   "cell_type": "code",
   "execution_count": null,
   "metadata": {
    "collapsed": false
   },
   "outputs": [],
   "source": [
    "f = lambda name: print(\"Hello \" + name + \"!\")\n",
    "f(\"Big Bear\")"
   ]
  },
  {
   "cell_type": "markdown",
   "metadata": {},
   "source": [
    "What this syntax allows us to do is to create functions without names.  This comes up from time to time, but is especially commonly used when sorting lists containing more complex objects.  For example:"
   ]
  },
  {
   "cell_type": "code",
   "execution_count": null,
   "metadata": {
    "collapsed": false
   },
   "outputs": [],
   "source": [
    "state_tuples = [\n",
    "    (\"CA\", \"California\", 23187421), \n",
    "    (\"NY\", \"New York\", 12312983), \n",
    "    (\"TX\", \"Texas\", 9824783)\n",
    "]\n",
    "lst = sorted(state_tuples, key = lambda x: x[2], reverse = True)\n",
    "print (lst)"
   ]
  },
  {
   "cell_type": "markdown",
   "metadata": {},
   "source": [
    "## Objects"
   ]
  },
  {
   "cell_type": "markdown",
   "metadata": {},
   "source": [
    "Python also supports object-oriented programming.  Classes work like modules, but have a little extra functionality to support more object-oriented design patterns.  Here is a simple python class.  Note the keywords **class**, **object** (optional), **self**, and **__init__**.\n",
    "\n",
    "* **class** indicates that the following code is the class definition.\n",
    "* **object** is the parent class for the current object.\n",
    "* **self** is a reference to the current object, to which member variables can be added at run time.\n",
    "* **init** (preceded and followed by double underscores) is the constructor function called when the object is created.\n",
    "\n"
   ]
  },
  {
   "cell_type": "code",
   "execution_count": null,
   "metadata": {
    "collapsed": false
   },
   "outputs": [],
   "source": [
    "class animal(object):\n",
    "    def __init__(self):\n",
    "        self.name = \"Bunny Rabbit\"\n",
    "    def say_hello(self):\n",
    "        print (\"Hello \" + self.name + \"!\")\n",
    "        \n",
    "a = animal()\n",
    "a.say_hello()"
   ]
  },
  {
   "cell_type": "markdown",
   "metadata": {
    "collapsed": true
   },
   "source": [
    "The __init__ function is the class constructor, invoked when thte object is created.  It can have whatever parameters you need, like any other function:"
   ]
  },
  {
   "cell_type": "code",
   "execution_count": null,
   "metadata": {
    "collapsed": false
   },
   "outputs": [],
   "source": [
    "class animal(object):\n",
    "    def __init__(self, name):\n",
    "        self.name = name\n",
    "    def say_hello(self):\n",
    "        print (\"Hello \" + self.name + \"!\")\n",
    "        \n",
    "a = animal(\"Big Bear\")\n",
    "a.say_hello()"
   ]
  },
  {
   "cell_type": "markdown",
   "metadata": {},
   "source": [
    "Objects can then be used in lists, dictionaries, etc.  "
   ]
  },
  {
   "cell_type": "code",
   "execution_count": null,
   "metadata": {
    "collapsed": false
   },
   "outputs": [],
   "source": [
    "names = [\"Wolf\", \"Elephant\", \"Lion\", \"Bear\"]\n",
    "animal_list = [animal(x) for x in names]\n",
    "for a in animal_list:\n",
    "    a.say_hello()"
   ]
  },
  {
   "cell_type": "markdown",
   "metadata": {
    "collapsed": true
   },
   "source": [
    "## Exceptions\n",
    "\n",
    "Exceptions allow you to protect against errors in your code without having to explicitly check for them wherever they might happen.  There are several situations where you might expect to encounter errors:\n",
    "\n",
    "* Any time you access a resource that might not be there, or that might be well-behaved like a file, database, or network connection\n",
    "* When you are dealing with numbers that might exceed the size of the bucket you're putting them in.\n",
    "* When doing division - dividing by zero is an error!\n",
    "* When using up a lot of memory.\n",
    "* When you are accessing data that might be missing.\n",
    "* When you can't be certain of the datatype of the data, or the inferred data type is incorrect.\n",
    "\n",
    "Exceptions let you wrap a chunk of code in a block, and any time there is an error within that block, the code will jump to the code that you specify. In the old days, this used to be accomplished with GOTO statements, but GOTO statements could go anywhere, and developed a bad repution for leading to spaghetti code, since any chunk of code could jump anywhere else in your program.  Exceptions allow this kind of GOTO behavior, but limit it to a more restricted and well defined structure.\n",
    "\n",
    "Here is a typical example:"
   ]
  },
  {
   "cell_type": "code",
   "execution_count": null,
   "metadata": {
    "collapsed": false
   },
   "outputs": [],
   "source": [
    "import traceback\n",
    "\n",
    "x = 100\n",
    "y = 0\n",
    "try:\n",
    "    z = x/y\n",
    "except ZeroDivisionError:\n",
    "    print (\"divide by zero\")"
   ]
  },
  {
   "cell_type": "markdown",
   "metadata": {},
   "source": [
    "This defined a specific type of exception to check for.  You can also just use the type \"Exception\" to catch all types.  By referencing the Exception object, you can print out diagnostic information."
   ]
  },
  {
   "cell_type": "code",
   "execution_count": null,
   "metadata": {
    "collapsed": false
   },
   "outputs": [],
   "source": [
    "x = 100\n",
    "y = 0\n",
    "try:\n",
    "    z = x/y\n",
    "except Exception as e:\n",
    "    print (\"Something went wrong!\", e)"
   ]
  },
  {
   "cell_type": "markdown",
   "metadata": {},
   "source": [
    "The _traceback_ module can also help by letting you output more detailed information about the error, like a stack trace (list of calling functions that led to the error), and the line number of the error."
   ]
  },
  {
   "cell_type": "code",
   "execution_count": null,
   "metadata": {
    "collapsed": false
   },
   "outputs": [],
   "source": [
    "import traceback\n",
    "\n",
    "x = 100\n",
    "y = 0\n",
    "try:\n",
    "    z = x/y\n",
    "except Exception as e:\n",
    "    print (\"Something went wrong!\", e)\n",
    "    traceback.print_exc()"
   ]
  },
  {
   "cell_type": "markdown",
   "metadata": {},
   "source": [
    "Finally, the _finally_ clause lets you run some code at the end of your try block, whether or not there was an exception, which is occasionally useful if you want to, say, always return a valid value from your function whether or not there was an exception:"
   ]
  },
  {
   "cell_type": "code",
   "execution_count": null,
   "metadata": {
    "collapsed": false
   },
   "outputs": [],
   "source": [
    "x = 100\n",
    "y = 0\n",
    "try:\n",
    "    z = x/y\n",
    "    result = str(z)\n",
    "except Exception as e:\n",
    "    print (\"Something went wrong!\", e)\n",
    "    result = \"unknown\"\n",
    "finally:\n",
    "    print (\"The result is: \", result)"
   ]
  },
  {
   "cell_type": "markdown",
   "metadata": {},
   "source": [
    "### Exercise: can you rewrite one of the examples from earlier that accesses a database or web service, and use Exceptions to handle cases where the database or service can't be reached? "
   ]
  },
  {
   "cell_type": "code",
   "execution_count": null,
   "metadata": {
    "collapsed": true
   },
   "outputs": [],
   "source": []
  }
 ],
 "metadata": {
  "anaconda-cloud": {},
  "kernelspec": {
   "display_name": "Python [default]",
   "language": "python",
   "name": "python3"
  },
  "language_info": {
   "codemirror_mode": {
    "name": "ipython",
    "version": 3
   },
   "file_extension": ".py",
   "mimetype": "text/x-python",
   "name": "python",
   "nbconvert_exporter": "python",
   "pygments_lexer": "ipython3",
   "version": "3.5.2"
  }
 },
 "nbformat": 4,
 "nbformat_minor": 1
}
