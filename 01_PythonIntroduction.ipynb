{
 "cells": [
  {
   "cell_type": "markdown",
   "metadata": {},
   "source": [
    "## Welcome to Python!"
   ]
  },
  {
   "cell_type": "code",
   "execution_count": null,
   "metadata": {
    "collapsed": true
   },
   "outputs": [],
   "source": [
    "%matplotlib inline"
   ]
  },
  {
   "cell_type": "markdown",
   "metadata": {},
   "source": [
    "This notebook includes a quick overview of the elements of the Python language we will need to get started.   Each editable box contains a chunk of code that will execute when you press **shift + enter**.  Try it here - try it with and without the \"print\":"
   ]
  },
  {
   "cell_type": "code",
   "execution_count": null,
   "metadata": {
    "collapsed": false
   },
   "outputs": [],
   "source": [
    "print (\"Hello world!\")"
   ]
  },
  {
   "cell_type": "markdown",
   "metadata": {},
   "source": [
    "### Variables\n",
    "\n",
    "A variable references a piece of data that you can store in memory for later use.  Variables can have one of several **types**, especially **string** (sequence of characters), **integer** (whole number), or **float** (number with decimals). Variables can have any name we want, without spaces, usually consisting of letters and underscores. \n",
    "\n",
    "You can put a value into a variable using the equals sign.  More details are <a href=\"http://www.python-course.eu/variables.php\">here</a>.\n",
    "\n",
    "Try running these commands to see variables in action:"
   ]
  },
  {
   "cell_type": "code",
   "execution_count": null,
   "metadata": {
    "collapsed": false
   },
   "outputs": [],
   "source": [
    "s = \"Hello world\"\n",
    "print (s)\n",
    "print (type(s))"
   ]
  },
  {
   "cell_type": "markdown",
   "metadata": {},
   "source": [
    "Note that comments are preceded by the hash sign. "
   ]
  },
  {
   "cell_type": "code",
   "execution_count": null,
   "metadata": {
    "collapsed": false
   },
   "outputs": [],
   "source": [
    "f = 123.45\n",
    "print (f)\n",
    "print (type(f))\n",
    "\n",
    "s = str(f)  # str() forces the floating point number to be converted to a string.\n",
    "print(s)\n",
    "print (type(s))\n",
    "\n",
    "f = float(0)   # here, float() forces the zero to be interpreted as a floating-point number instead of an integer\n",
    "print (type(f))\n",
    "\n",
    "print(type(5))  # the decimal point forces the variable to a float as well\n",
    "print(type(5.0))"
   ]
  },
  {
   "cell_type": "markdown",
   "metadata": {},
   "source": [
    "Python supports basic arithmetic operators, where are overloaded to support different types, but not all types.  For example:"
   ]
  },
  {
   "cell_type": "code",
   "execution_count": null,
   "metadata": {
    "collapsed": false
   },
   "outputs": [],
   "source": [
    "print (s + \"!\")\n",
    "print (f + 0.5)\n",
    "print (s + 0.5)  # Note that this causes an error! How might you fix this?"
   ]
  },
  {
   "cell_type": "markdown",
   "metadata": {},
   "source": [
    "The built-in dir() function can help you keep track of the variables you have created; del deletes them:"
   ]
  },
  {
   "cell_type": "code",
   "execution_count": null,
   "metadata": {
    "collapsed": false
   },
   "outputs": [],
   "source": [
    "test_variable = 0\n",
    "print (dir())\n",
    "del(test_variable)\n",
    "print (dir())"
   ]
  },
  {
   "cell_type": "markdown",
   "metadata": {},
   "source": [
    "### Lists and Dictionaries \n",
    "\n",
    "Lists are the workhorse collection type for managing series of similar variables.  They consist of a series of elements, indicated by square brackets. For more information on lists and dictionaries, see: https://docs.python.org/3/tutorial/datastructures.html."
   ]
  },
  {
   "cell_type": "code",
   "execution_count": null,
   "metadata": {
    "collapsed": false
   },
   "outputs": [],
   "source": [
    "my_list = [1,2,9,6,2]\n",
    "print (my_list)"
   ]
  },
  {
   "cell_type": "markdown",
   "metadata": {},
   "source": [
    "Individual elements are accessed by a sequential index number, also surrounded by square brackets, starting with zero. Negative numbers wrap to the end of the list.  Note the error when we access an index number past the end of the list:"
   ]
  },
  {
   "cell_type": "code",
   "execution_count": null,
   "metadata": {
    "collapsed": false
   },
   "outputs": [],
   "source": [
    "print (my_list[2])\n",
    "print (my_list[-1])\n",
    "print (my_list[99])  # Note that this causes an error!"
   ]
  },
  {
   "cell_type": "markdown",
   "metadata": {},
   "source": [
    "A new list can be created with empty brackets or list():"
   ]
  },
  {
   "cell_type": "code",
   "execution_count": null,
   "metadata": {
    "collapsed": false
   },
   "outputs": [],
   "source": [
    "another_list = []\n",
    "print (type(another_list))\n",
    "another_list = list()\n",
    "print (type(another_list))"
   ]
  },
  {
   "cell_type": "markdown",
   "metadata": {},
   "source": [
    "There are several useful built-in functions that let you manipulate and query lists:"
   ]
  },
  {
   "cell_type": "code",
   "execution_count": null,
   "metadata": {
    "collapsed": false
   },
   "outputs": [],
   "source": [
    "lst = [1,9,4,7]\n",
    "print (lst)\n",
    "\n",
    "print(lst.index(9))  # Gets the index of an item in the list.\n",
    "\n",
    "lst.append(5)  # Appends a single item\n",
    "print(lst)\n",
    "\n",
    "lst.insert(0, 99)  # Inserts a single item\n",
    "print(lst)\n",
    "\n",
    "lst.extend( [25, 24, 23, 22] )  # Appends a list of items\n",
    "print(lst)\n",
    "\n",
    "print (sum(lst))  # adds up the items\n",
    "print (len(lst))  # returns the number of items"
   ]
  },
  {
   "cell_type": "code",
   "execution_count": null,
   "metadata": {
    "collapsed": false
   },
   "outputs": [],
   "source": [
    "a = max(lst)\n",
    "b = min(lst)\n",
    "print (a, b) # note that print can handle a flexible number of parameters\n",
    "\n",
    "my_sorted_list = sorted(lst)  # Sorts the list and makes a copy\n",
    "print (\"Sorted list:\", my_sorted_list)\n",
    "print (\"Original unsorted list:\", lst)\n",
    "lst.sort(reverse=True)  # Sorts the list\n",
    "print (\"Reverse-sorted in place:\", lst)"
   ]
  },
  {
   "cell_type": "markdown",
   "metadata": {},
   "source": [
    "Array indexing lets you slice and dice lists:"
   ]
  },
  {
   "cell_type": "code",
   "execution_count": null,
   "metadata": {
    "collapsed": false
   },
   "outputs": [],
   "source": [
    "print (lst)\n",
    "print(lst[0:3])  # The first three elemensts in the list\n",
    "print(lst[-2])  # The second-to-last item in the list\n",
    "print(lst[:3])  "
   ]
  },
  {
   "cell_type": "markdown",
   "metadata": {},
   "source": [
    "Note that strings work similarly"
   ]
  },
  {
   "cell_type": "code",
   "execution_count": null,
   "metadata": {
    "collapsed": false
   },
   "outputs": [],
   "source": [
    "name_str = 'Foundation Center'\n",
    "print(name_str[0:3])  # The first three elemensts in the list\n",
    "print(name_str[-2])  # The second-to-last item in the list\n",
    "print(name_str[:3])"
   ]
  },
  {
   "cell_type": "markdown",
   "metadata": {},
   "source": [
    "Dictionaries are also very common in Python.  They consist of key / value pairs, indicated by curly braces:"
   ]
  },
  {
   "cell_type": "code",
   "execution_count": null,
   "metadata": {
    "collapsed": false
   },
   "outputs": [],
   "source": [
    "my_dictionary = { \"word\": \"the\", \"count\": 123456789 }\n",
    "print (my_dictionary)"
   ]
  },
  {
   "cell_type": "markdown",
   "metadata": {},
   "source": [
    "Individual elements are accessed the key, also using *square* brackets, for example:"
   ]
  },
  {
   "cell_type": "code",
   "execution_count": null,
   "metadata": {
    "collapsed": false,
    "scrolled": true
   },
   "outputs": [],
   "source": [
    "print (my_dictionary[\"word\"])\n",
    "print (my_dictionary[\"count\"])"
   ]
  },
  {
   "cell_type": "markdown",
   "metadata": {},
   "source": [
    "The keys and values can be accessed as lists:"
   ]
  },
  {
   "cell_type": "code",
   "execution_count": null,
   "metadata": {
    "collapsed": false,
    "scrolled": true
   },
   "outputs": [],
   "source": [
    "print (my_dictionary.keys())\n",
    "print (my_dictionary.values())"
   ]
  },
  {
   "cell_type": "markdown",
   "metadata": {},
   "source": [
    "With both lists and dictionaries, you can test whether or not they contain individual elements:"
   ]
  },
  {
   "cell_type": "code",
   "execution_count": null,
   "metadata": {
    "collapsed": false,
    "scrolled": true
   },
   "outputs": [],
   "source": [
    "if (\"word\" in my_dictionary.keys()):  # Note colon sets off if/else statements\n",
    "    print (my_dictionary[\"word\"])\n",
    "else:\n",
    "    print (\"Word not found\")\n",
    "\n",
    "if (25 in lst):\n",
    "    print (\"25 found!\")"
   ]
  },
  {
   "cell_type": "markdown",
   "metadata": {},
   "source": [
    "Lists and loops go together!"
   ]
  },
  {
   "cell_type": "code",
   "execution_count": null,
   "metadata": {
    "collapsed": false,
    "scrolled": true
   },
   "outputs": [],
   "source": [
    "for s in my_dictionary.keys():\n",
    "    print (my_dictionary[s])"
   ]
  },
  {
   "cell_type": "markdown",
   "metadata": {},
   "source": [
    "You can also iterate over both simultaneously:"
   ]
  },
  {
   "cell_type": "code",
   "execution_count": null,
   "metadata": {
    "collapsed": false
   },
   "outputs": [],
   "source": [
    "for k, v in my_dictionary.items():\n",
    "    print (\"{0} is the key; {1} is the value\".format(k, v))  # Note the string placeholders and format call."
   ]
  },
  {
   "cell_type": "markdown",
   "metadata": {},
   "source": [
    "The range() built-in function returns a sequential series, which can be cast to a lst:"
   ]
  },
  {
   "cell_type": "code",
   "execution_count": null,
   "metadata": {
    "collapsed": false,
    "scrolled": true
   },
   "outputs": [],
   "source": [
    "print(list(range(5)))  # 0 to n-1\n",
    "print(list(range(1, 5)))  # m to n-1\n",
    "print(list(range(0, 100, 5)))  # m to n-1 step x"
   ]
  },
  {
   "cell_type": "markdown",
   "metadata": {},
   "source": [
    "*List comprehensions* use a special variation of the bracket notation to iterate over a list."
   ]
  },
  {
   "cell_type": "code",
   "execution_count": null,
   "metadata": {
    "collapsed": false
   },
   "outputs": [],
   "source": [
    "a = range(10)\n",
    "print (a)\n",
    "b = [n/10.0 for n in a]\n",
    "print (b)"
   ]
  },
  {
   "cell_type": "markdown",
   "metadata": {},
   "source": [
    "Finally, you can zip lists together into "
   ]
  },
  {
   "cell_type": "code",
   "execution_count": null,
   "metadata": {
    "collapsed": false,
    "scrolled": true
   },
   "outputs": [],
   "source": [
    "list1 = [\"a\", \"b\", \"c\"]\n",
    "list2 = [123, 945, 876]\n",
    "t = zip(list1, list2) # zip create an iterable object that combines the two lists \n",
    "print (dict(zip(list1, list2)))  # This can then be converted to a list (of tuples - like immutablelists) - or a dictionary\n",
    "print (list(zip(list1, list2)))"
   ]
  },
  {
   "cell_type": "markdown",
   "metadata": {},
   "source": [
    "***\n",
    "### Questions\n",
    "\n",
    "Here is a list of the populations of the 50 states from geonames.org. Run the cell to load the numbers into the state_populations variable:"
   ]
  },
  {
   "cell_type": "code",
   "execution_count": null,
   "metadata": {
    "collapsed": false,
    "scrolled": true
   },
   "outputs": [],
   "source": [
    "state_populations = [\n",
    "    4530315,\n",
    "    660633,\n",
    "    5863809,\n",
    "    2757631,\n",
    "    37691912,\n",
    "    4678630,\n",
    "    3527249,\n",
    "    838549,\n",
    "    552433,\n",
    "    17671452,\n",
    "    8975842,\n",
    "    1284220,\n",
    "    1416564,\n",
    "    12772888,\n",
    "    6265933,\n",
    "    2955010,\n",
    "    2740759,\n",
    "    4206074,\n",
    "    4515939,\n",
    "    1325518,\n",
    "    5624246,\n",
    "    6433422,\n",
    "    9883360,\n",
    "    5141953,\n",
    "    2901371,\n",
    "    5768151,\n",
    "    930698,\n",
    "    1757399,\n",
    "    2399532,\n",
    "    1316216,\n",
    "    8751436,\n",
    "    1912684,\n",
    "    19274244,\n",
    "    8611367,\n",
    "    630529,\n",
    "    11467123,\n",
    "    3547049,\n",
    "    3642919,\n",
    "    12440621,\n",
    "    1050292,\n",
    "    4229842,\n",
    "    770184,\n",
    "    5935099,\n",
    "    22875689,\n",
    "    2427340,\n",
    "    624501,\n",
    "    7642884,\n",
    "    6271775,\n",
    "    1817871,\n",
    "    5535168,\n",
    "    505907\n",
    "]"
   ]
  },
  {
   "cell_type": "markdown",
   "metadata": {},
   "source": [
    "***\n",
    "### 1. Write some code below that prints:\n",
    "* The number of states\n",
    "* The total population of all states\n",
    "* The maximum population\n",
    "* The average population\n",
    "* The top 10 populations"
   ]
  },
  {
   "cell_type": "code",
   "execution_count": null,
   "metadata": {
    "collapsed": false
   },
   "outputs": [],
   "source": []
  },
  {
   "cell_type": "markdown",
   "metadata": {},
   "source": [
    "***\n",
    "### 2. Use the data loaded below to:\n",
    "\n",
    "* figure out what the highest and lowest per-capita arts funding is.\n",
    "* figure out what states those amounts refer to\n",
    "* create a dictionary where the keys are state names, and the values are per-capita arts funding.\n",
    "\n",
    "The arts_funding_data file contains, in the same order:\n",
    "* state_names\n",
    "* state_populations\n",
    "* state_arts_funding"
   ]
  },
  {
   "cell_type": "code",
   "execution_count": null,
   "metadata": {
    "collapsed": false
   },
   "outputs": [],
   "source": [
    "import arts_funding_data as d  # Import runs the content of the reference file; \"as\" gives it an alias.\n",
    "\n",
    "print (d.state_names, d.state_populations, d.state_arts_funding)"
   ]
  },
  {
   "cell_type": "code",
   "execution_count": null,
   "metadata": {
    "collapsed": false
   },
   "outputs": [],
   "source": []
  },
  {
   "cell_type": "markdown",
   "metadata": {},
   "source": [
    "## Functions"
   ]
  },
  {
   "cell_type": "markdown",
   "metadata": {},
   "source": [
    "In Python, functions are indicated by parentheses following the name. Functions must first be *defined* before they can be used.  \n",
    "\n",
    "Note the colon following the function definition. Also, note that in Python indentation is significant - it knows the second line below is part of the function because it is indented following the function name:"
   ]
  },
  {
   "cell_type": "code",
   "execution_count": null,
   "metadata": {
    "collapsed": false
   },
   "outputs": [],
   "source": [
    "def say_hello():\n",
    "    print (\"Hello world\")"
   ]
  },
  {
   "cell_type": "markdown",
   "metadata": {},
   "source": [
    "Functions are *called* by using the parentheses only, without the \"def\" or colon:"
   ]
  },
  {
   "cell_type": "code",
   "execution_count": null,
   "metadata": {
    "collapsed": false
   },
   "outputs": [],
   "source": [
    "say_hello()"
   ]
  },
  {
   "cell_type": "markdown",
   "metadata": {},
   "source": [
    "Within the parentheses, *arguments* can be *passed* to the function, which operates on the parameter.  For example:"
   ]
  },
  {
   "cell_type": "code",
   "execution_count": null,
   "metadata": {
    "collapsed": false
   },
   "outputs": [],
   "source": [
    "def say_hello(name):\n",
    "    print (\"hello, \" + name + \"!\")"
   ]
  },
  {
   "cell_type": "markdown",
   "metadata": {},
   "source": [
    "This then lets us use the function with multiple different values:"
   ]
  },
  {
   "cell_type": "code",
   "execution_count": null,
   "metadata": {
    "collapsed": false
   },
   "outputs": [],
   "source": [
    "say_hello(\"there\")\n",
    "say_hello(\"bunny rabbit\")\n",
    "s = \"Horatio Hornblower\"\n",
    "say_hello(s)"
   ]
  },
  {
   "cell_type": "markdown",
   "metadata": {},
   "source": [
    "Functions can also be set up to return values, using the keyword \"return\":"
   ]
  },
  {
   "cell_type": "code",
   "execution_count": null,
   "metadata": {
    "collapsed": true
   },
   "outputs": [],
   "source": [
    "def square(n):\n",
    "    return (n ** 2)"
   ]
  },
  {
   "cell_type": "markdown",
   "metadata": {},
   "source": [
    "The returned values can then be assigned to variables, for example:"
   ]
  },
  {
   "cell_type": "code",
   "execution_count": null,
   "metadata": {
    "collapsed": false
   },
   "outputs": [],
   "source": [
    "b = square(4)\n",
    "c = b * square(b)\n",
    "print (c)"
   ]
  },
  {
   "cell_type": "markdown",
   "metadata": {},
   "source": [
    "Python functions can return multiple values."
   ]
  },
  {
   "cell_type": "code",
   "execution_count": null,
   "metadata": {
    "collapsed": false,
    "scrolled": true
   },
   "outputs": [],
   "source": [
    "def sqr_sqrt(x):\n",
    "    return x**2, x**.5\n",
    "sqr_sqrt(100)"
   ]
  },
  {
   "cell_type": "markdown",
   "metadata": {},
   "source": [
    "### Question\n",
    "\n",
    "Using what we have learned about lists and dictionaries, write three functions:\n",
    "\n",
    "* One that returns average value of any given list of numbers.\n",
    "* Another that returns a dictionary of information containing descriptive data about any given list of number, for example:\n",
    "```\n",
    "{\n",
    "  \"count\": 12,\n",
    "  \"average\": 123.45,\n",
    "  \"min\": 0,\n",
    "  \"max\": 500\n",
    "}\n",
    "```\n",
    "* And a third that returns the top 5 elements in the list."
   ]
  },
  {
   "cell_type": "markdown",
   "metadata": {},
   "source": [
    "###  Modules\n",
    "\n",
    "Built-in functions are often grouped into *modules*, for example, random - returns a random number between zero and one.  The dot notation means that you are referencing something that is contained in another, in this case the rand function within the random module."
   ]
  },
  {
   "cell_type": "code",
   "execution_count": 3,
   "metadata": {
    "collapsed": false,
    "scrolled": true
   },
   "outputs": [
    {
     "data": {
      "text/plain": [
       "6"
      ]
     },
     "execution_count": 3,
     "metadata": {},
     "output_type": "execute_result"
    }
   ],
   "source": [
    "import random \n",
    "random.randint(1, 10)"
   ]
  },
  {
   "cell_type": "markdown",
   "metadata": {},
   "source": [
    "###  Flow Control\n",
    "\n",
    "*for*-*in* iterates over items; *if*-*else* conditionally selected between statements.  Note the colon and indentation define which statements are included in the conditional blocks."
   ]
  },
  {
   "cell_type": "code",
   "execution_count": 4,
   "metadata": {
    "collapsed": false
   },
   "outputs": [
    {
     "name": "stdout",
     "output_type": "stream",
     "text": [
      "false\n",
      "false\n",
      "false\n",
      "false\n",
      "false\n",
      "5\n",
      "6\n",
      "false\n",
      "8\n",
      "9\n",
      "all done\n"
     ]
    }
   ],
   "source": [
    "x = range(10)\n",
    "for a in x:\n",
    "    if a > random.random() * 10:\n",
    "        print (a)\n",
    "    else:\n",
    "        print (\"false\")\n",
    "print (\"all done\")"
   ]
  },
  {
   "cell_type": "markdown",
   "metadata": {},
   "source": [
    "### Sets and Tuples"
   ]
  },
  {
   "cell_type": "markdown",
   "metadata": {},
   "source": [
    "List features include that you can find it by index number, data need not be unique, the contents can be heterogeneous and the structure is changeable.\n",
    "\n",
    "In contrast, a *set* is a collection of unique item, useful when data needs to be unique, and when you need to carry out set operations on your data. You can use sets to extract unique items from lists, by casting lists as sets."
   ]
  },
  {
   "cell_type": "code",
   "execution_count": 5,
   "metadata": {
    "collapsed": false
   },
   "outputs": [
    {
     "name": "stdout",
     "output_type": "stream",
     "text": [
      "[1, 2, 2, 3]\n",
      "set([1, 2, 3])\n",
      "set([3, 4, 5])\n",
      "<type 'set'>\n"
     ]
    }
   ],
   "source": [
    "my_list = [1,2,2,3]\n",
    "print (my_list)\n",
    "s1 = set(my_list)\n",
    "print (s1)\n",
    "s2 = {3,4,5}\n",
    "print (s2)\n",
    "print (type(s2))"
   ]
  },
  {
   "cell_type": "markdown",
   "metadata": {},
   "source": [
    "Set operators can occasionally be handy:"
   ]
  },
  {
   "cell_type": "code",
   "execution_count": 6,
   "metadata": {
    "collapsed": false
   },
   "outputs": [
    {
     "name": "stdout",
     "output_type": "stream",
     "text": [
      "set([1, 2, 3, 4, 5])\n",
      "set([3])\n",
      "set([1, 2])\n",
      "set([1, 2, 4, 5])\n"
     ]
    }
   ],
   "source": [
    "print (s1 | s2) # Union\n",
    "print (s1 & s2) # Intersection\n",
    "print (s1 - s2) # Difference\n",
    "print (s1 ^ s2) # Symmetric difference - elements unique to both"
   ]
  },
  {
   "cell_type": "markdown",
   "metadata": {},
   "source": [
    "A tuple is a collection of items, not necessarily unique. They are lighter-weight than lists, and don't support as many ancillary operations like inserting or appending.  Good for things where you know there will always be the same number of items, like coordinate pairs, where you know there are always two numeric elements, versus polygon vertex lists, which can contain an unpredictable number of items.\n"
   ]
  },
  {
   "cell_type": "code",
   "execution_count": 7,
   "metadata": {
    "collapsed": false
   },
   "outputs": [
    {
     "name": "stdout",
     "output_type": "stream",
     "text": [
      "(1, 2, 3)\n",
      "(1, 2, 3, 6)\n"
     ]
    }
   ],
   "source": [
    "t1 = (1,2,3)\n",
    "print (t1)\n",
    "t2 = (6,) # For python to know this single item is a tuple and not just a number with parens around it, it needs the trailing comma\n",
    "print (t1 + t2)"
   ]
  },
  {
   "cell_type": "code",
   "execution_count": null,
   "metadata": {
    "collapsed": true
   },
   "outputs": [],
   "source": []
  },
  {
   "cell_type": "markdown",
   "metadata": {},
   "source": [
    "***\n",
    "### Some basic plots"
   ]
  },
  {
   "cell_type": "markdown",
   "metadata": {},
   "source": [
    "Matplotlib is a basic plotting library comonly used in Python.  The notebook environment lets you display plots inline with your code; outside of notebooks, they come up as separate windows."
   ]
  },
  {
   "cell_type": "code",
   "execution_count": null,
   "metadata": {
    "collapsed": false
   },
   "outputs": [],
   "source": [
    "import matplotlib\n",
    "import matplotlib.pyplot as plt\n",
    "import arts_funding_data as d \n",
    "\n",
    "plt.hist(d.state_populations) # Histogram\n",
    "plt.show()\n",
    "plt.scatter(d.state_populations, d.state_arts_funding) # Scatterplot\n",
    "plt.show()\n",
    "plt.bar(range(len(d.state_arts_funding)), height=d.state_arts_funding)\n",
    "plt.show()"
   ]
  },
  {
   "cell_type": "markdown",
   "metadata": {},
   "source": [
    "Subplot command lets you tile plots as needed. See http://matplotlib.org/users/pyplot_tutorial.html for more examples."
   ]
  },
  {
   "cell_type": "code",
   "execution_count": null,
   "metadata": {
    "collapsed": false,
    "scrolled": true
   },
   "outputs": [],
   "source": [
    "plt.subplot(1,3,1)  # Num rows, num columns, current plot index\n",
    "plt.hist(d.state_populations) # Histogram\n",
    "plt.subplot(1,3,2)\n",
    "plt.scatter(d.state_populations, d.state_arts_funding) # Scatterplot\n",
    "plt.subplot(1,3,3)\n",
    "plt.bar(range(len(d.state_arts_funding)), height=d.state_arts_funding)\n",
    "plt.show()"
   ]
  },
  {
   "cell_type": "markdown",
   "metadata": {},
   "source": [
    "***\n",
    "### 3. Using this information, create a bar chart of the top 10 states for per-capita arts grant funding."
   ]
  },
  {
   "cell_type": "code",
   "execution_count": null,
   "metadata": {
    "collapsed": false
   },
   "outputs": [],
   "source": []
  },
  {
   "cell_type": "markdown",
   "metadata": {},
   "source": [
    "***\n",
    "### 4. Write a function that creates a scatterplot between two lists of numbers.  Test it with 5 different sets random numbers."
   ]
  },
  {
   "cell_type": "code",
   "execution_count": null,
   "metadata": {
    "collapsed": false
   },
   "outputs": [],
   "source": []
  }
 ],
 "metadata": {
  "anaconda-cloud": {},
  "kernelspec": {
   "display_name": "Python [conda root]",
   "language": "python",
   "name": "conda-root-py"
  },
  "language_info": {
   "codemirror_mode": {
    "name": "ipython",
    "version": 3
   },
   "file_extension": ".py",
   "mimetype": "text/x-python",
   "name": "python",
   "nbconvert_exporter": "python",
   "pygments_lexer": "ipython3",
   "version": "3.5.2"
  }
 },
 "nbformat": 4,
 "nbformat_minor": 0
}
