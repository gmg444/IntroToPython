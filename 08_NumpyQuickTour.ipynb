{
 "cells": [
  {
   "cell_type": "markdown",
   "metadata": {},
   "source": [
    "# Numpy Quick Tour"
   ]
  },
  {
   "cell_type": "markdown",
   "metadata": {},
   "source": [
    "Adapted from a python introduction by [Volodymyr Kuleshov](http://web.stanford.edu/~kuleshov/) and [Isaac Caswell](https://symsys.stanford.edu/viewing/symsysaffiliate/21335) from the `CS231n` Python tutorial by Justin Johnson (http://cs231n.github.io/python-numpy-tutorial/)."
   ]
  },
  {
   "cell_type": "markdown",
   "metadata": {},
   "source": [
    "Numpy provides high-performance multidimensional array objects, and tools for working with these arrays. Their high performance make them very useful in  applications that need to handle large sets numeric arrays quickly; they can also be very useful for caching data."
   ]
  },
  {
   "cell_type": "code",
   "execution_count": null,
   "metadata": {
    "collapsed": false
   },
   "outputs": [],
   "source": [
    "import numpy as np"
   ]
  },
  {
   "cell_type": "markdown",
   "metadata": {},
   "source": [
    "A numpy array is a grid of values, all of the same type, and is indexed by a tuple of nonnegative integers. The shape of an array is a tuple of integers giving the size of the array along each dimension. "
   ]
  },
  {
   "cell_type": "markdown",
   "metadata": {},
   "source": [
    "We can initialize numpy arrays from nested Python lists, and access elements using square brackets:"
   ]
  },
  {
   "cell_type": "code",
   "execution_count": null,
   "metadata": {
    "collapsed": false
   },
   "outputs": [],
   "source": [
    "a = np.array([1, 2, 3])  # Array initialized from a list\n",
    "print (type(a), a.shape, a[0], a[1], a[2])\n",
    "a[0] = 5                 # Change an element of the array in place\n",
    "print (a)                "
   ]
  },
  {
   "cell_type": "code",
   "execution_count": null,
   "metadata": {
    "collapsed": false
   },
   "outputs": [],
   "source": [
    "b = np.array([[1,2,3],[4,5,6]])   # Create an array from nested lists\n",
    "print (b)"
   ]
  },
  {
   "cell_type": "code",
   "execution_count": null,
   "metadata": {
    "collapsed": false
   },
   "outputs": [],
   "source": [
    "print (b.shape)                   \n",
    "print (b[0, 0], b[0, 1], b[1, 0])"
   ]
  },
  {
   "cell_type": "markdown",
   "metadata": {},
   "source": [
    "Numpy also provides many functions to create arrays:"
   ]
  },
  {
   "cell_type": "code",
   "execution_count": null,
   "metadata": {
    "collapsed": false
   },
   "outputs": [],
   "source": [
    "a = np.zeros((2,2))  # Create an array of all zeros\n",
    "print (a)"
   ]
  },
  {
   "cell_type": "code",
   "execution_count": null,
   "metadata": {
    "collapsed": false
   },
   "outputs": [],
   "source": [
    "b = np.ones((1,2))   # Create an array of all ones\n",
    "print (b)"
   ]
  },
  {
   "cell_type": "code",
   "execution_count": null,
   "metadata": {
    "collapsed": false
   },
   "outputs": [],
   "source": [
    "e = np.random.random((2,2)) # Create an array filled with random values\n",
    "print (e)"
   ]
  },
  {
   "cell_type": "markdown",
   "metadata": {},
   "source": [
    "One of the key features of numpy is that you operate on large array of numbers without having to loop through each one.  Loops can be slow in Python because of the extra the cost, compared to compiled CPU-specific code, of going between the interpreted environment and the instructions executed by the CPU.\n",
    "\n",
    "For example, if we want to do some arithmetic on a million numbers, it takes much longer go through all the overhead of fetching each one than it does to process the whole block as a numpy array:"
   ]
  },
  {
   "cell_type": "code",
   "execution_count": null,
   "metadata": {
    "collapsed": false
   },
   "outputs": [],
   "source": [
    "import numpy as np\n",
    "from time import time\n",
    "\n",
    "start_time = time()\n",
    "rand_arr = np.random.random((10000000,))\n",
    "print(\"Created numpy array of 10 million random elements\", time() - start_time)\n",
    "\n",
    "start_time = time()\n",
    "for i in range(rand_arr.shape[0]):\n",
    "    rand_arr[i] += 100\n",
    "sum_arr = rand_arr.sum()\n",
    "print(\"Increased all the elements one by one\", time() - start_time)\n",
    "\n",
    "start_time = time()\n",
    "rand_arr += 100\n",
    "sum_arr = rand_arr.sum()\n",
    "print(\"Increased all the elements at once\", time() - start_time)"
   ]
  },
  {
   "cell_type": "markdown",
   "metadata": {},
   "source": [
    "As an aside: The timeit module can help for getting a sense of how fast a small chunk of code will run.  It works by evaluating python code and timing how long it takes to execute.\n",
    "\n",
    "http://www.geeksforgeeks.org/timeit-python-examples/"
   ]
  },
  {
   "cell_type": "code",
   "execution_count": null,
   "metadata": {
    "collapsed": false
   },
   "outputs": [],
   "source": [
    "from timeit import timeit\n",
    "\n",
    "setup = \"\"\"\n",
    "import numpy as np\n",
    "rand_arr = np.random.random((1000000,))\n",
    "\"\"\"\n",
    "stmt1 = \"\"\"\n",
    "for i in range(rand_arr.shape[0]): \n",
    "    rand_arr[i] += 100\n",
    "\"\"\"\n",
    "stmt2 = \"\"\"\n",
    "rand_arr += 100\n",
    "\"\"\"\n",
    "# Timeit works by evaluating python statements and timing them.\n",
    "print(timeit(stmt1,  setup, number=10))\n",
    "print(timeit(stmt2,  setup, number=10))\n"
   ]
  },
  {
   "cell_type": "markdown",
   "metadata": {},
   "source": [
    "### Array indexing"
   ]
  },
  {
   "cell_type": "markdown",
   "metadata": {},
   "source": [
    "Numpy offers several ways to index into arrays.  https://scipy.github.io/old-wiki/pages/Cookbook/Indexing"
   ]
  },
  {
   "cell_type": "markdown",
   "metadata": {},
   "source": [
    "Slicing: Like Python lists, numpy arrays can be sliced, but with a few more options. Since arrays may be multidimensional, you must specify a slice for each dimension of the array. Indexes are always in row, column order (not x, y)."
   ]
  },
  {
   "cell_type": "code",
   "execution_count": null,
   "metadata": {
    "collapsed": false
   },
   "outputs": [],
   "source": [
    "import numpy as np\n",
    "\n",
    "# Create the following rank 2 array with shape (3, 4)\n",
    "# [[ 1  2  3  4]\n",
    "#  [ 5  6  7  8]\n",
    "#  [ 9 10 11 12]]\n",
    "a = np.array([[1,2,3,4], [5,6,7,8], [9,10,11,12]])\n",
    "\n",
    "# Use slicing to pull out the subarray consisting of the first 2 rows\n",
    "# and columns 1 and 2; b is the following array of shape (2, 2):\n",
    "# [[2 3]\n",
    "#  [6 7]]\n",
    "b = a[:2, 1:3]\n",
    "print (b)"
   ]
  },
  {
   "cell_type": "markdown",
   "metadata": {},
   "source": [
    "A slice of an array is a view into the same data, so modifying it modified the original array."
   ]
  },
  {
   "cell_type": "code",
   "execution_count": null,
   "metadata": {
    "collapsed": false
   },
   "outputs": [],
   "source": [
    "print (a[0, 1])  \n",
    "b[0, 0] = 77    # b[0, 0] is the same piece of data as a[0, 1]\n",
    "print (a[0, 1])"
   ]
  },
  {
   "cell_type": "markdown",
   "metadata": {},
   "source": [
    "You can index arrays with arrays:"
   ]
  },
  {
   "cell_type": "code",
   "execution_count": null,
   "metadata": {
    "collapsed": false
   },
   "outputs": [],
   "source": [
    "print (a[[0, 2], [1, 3]])"
   ]
  },
  {
   "cell_type": "markdown",
   "metadata": {},
   "source": [
    "*Boolean array indexing* lets you pick out arbitrary elements of an array. Frequently this type of indexing is used to select the elements of an array that satisfy some condition. Here is an example:"
   ]
  },
  {
   "cell_type": "code",
   "execution_count": null,
   "metadata": {
    "collapsed": false
   },
   "outputs": [],
   "source": [
    "import numpy as np\n",
    "\n",
    "a = np.array([[1,2], [3, 4], [5, 6]])\n",
    "\n",
    "bool_idx = (a > 2)  # Find the elements of a that are bigger than 2;\n",
    "                    # this returns a numpy array of Booleans of the same\n",
    "                    # shape as a, where each slot of bool_idx tells\n",
    "                    # whether that element of a is > 2.\n",
    "\n",
    "print (bool_idx)"
   ]
  },
  {
   "cell_type": "code",
   "execution_count": null,
   "metadata": {
    "collapsed": false
   },
   "outputs": [],
   "source": [
    "# We use boolean array indexing to construct an array\n",
    "# consisting of the elements of a corresponding to the True values\n",
    "# of bool_idx\n",
    "print (a[bool_idx])\n",
    "\n",
    "# We can do all of the above in a single concise statement:\n",
    "print (a[a > 2])"
   ]
  },
  {
   "cell_type": "code",
   "execution_count": null,
   "metadata": {
    "collapsed": false
   },
   "outputs": [],
   "source": [
    "# Boolean indexing can also be useful for counting elements that meet a certain criterion, because True resolves to 1, and False to zero, so summing a conditional expression results in the count:\n",
    "\n",
    "print((a>2))\n",
    "print((a>2).sum())\n",
    "\n",
    "# You can also do things like zero out array elements using boolean arrays:\n",
    "\n",
    "print(a * (a>2))"
   ]
  },
  {
   "cell_type": "markdown",
   "metadata": {},
   "source": [
    "Here are some more about boolean array indexing:\n",
    "\n",
    "https://docs.scipy.org/doc/numpy-1.10.0/user/basics.indexing.html"
   ]
  },
  {
   "cell_type": "markdown",
   "metadata": {},
   "source": [
    "### Datatypes"
   ]
  },
  {
   "cell_type": "markdown",
   "metadata": {},
   "source": [
    "Every numpy array is a grid of elements of the same type. Numpy provides a large set of numeric datatypes that you can use to construct arrays. Numpy tries to guess a datatype, or uses a default, when you create an array, but functions that construct arrays usually also include an optional argument to explicitly specify the datatype. The default is a float64, which is often much larger then you need, so specifying a smaller data type for larger arrays can save memory. Here is an example:"
   ]
  },
  {
   "cell_type": "code",
   "execution_count": null,
   "metadata": {
    "collapsed": false
   },
   "outputs": [],
   "source": [
    "x = np.array([1, 2])  # Let numpy choose the datatype\n",
    "y = np.array([1.0, 2.0])  # Let numpy choose the datatype\n",
    "z = np.array([1, 2], dtype=np.uint8)  # Force a particular datatype\n",
    "\n",
    "print (x.dtype, y.dtype, z.dtype)"
   ]
  },
  {
   "cell_type": "markdown",
   "metadata": {},
   "source": [
    "You can read all about numpy datatypes in the [documentation](http://docs.scipy.org/doc/numpy/reference/arrays.dtypes.html)."
   ]
  },
  {
   "cell_type": "markdown",
   "metadata": {},
   "source": [
    "### Math functions"
   ]
  },
  {
   "cell_type": "markdown",
   "metadata": {},
   "source": [
    "Basic mathematical functions operate elementwise on arrays, and are available as operator overloads (functions like \\__add__ that implement the + operator):"
   ]
  },
  {
   "cell_type": "code",
   "execution_count": null,
   "metadata": {
    "collapsed": false
   },
   "outputs": [],
   "source": [
    "x = np.array([[1,2],[3,4]], dtype=np.float64)\n",
    "print(x.__add__(y))\n",
    "print (x + y)\n",
    "print (x - y)\n",
    "print (x * y)"
   ]
  },
  {
   "cell_type": "markdown",
   "metadata": {},
   "source": [
    "Numpy also provides many built in functions that opererate on arrays:"
   ]
  },
  {
   "cell_type": "code",
   "execution_count": null,
   "metadata": {
    "collapsed": false
   },
   "outputs": [],
   "source": [
    "print (np.sum(x))\n",
    "print (np.sqrt(x))\n",
    "print (np.std(x))"
   ]
  },
  {
   "cell_type": "markdown",
   "metadata": {},
   "source": [
    "Numpy also supports many linear algebra operations, which treat arrays as vectors and matrices:"
   ]
  },
  {
   "cell_type": "code",
   "execution_count": null,
   "metadata": {
    "collapsed": false
   },
   "outputs": [],
   "source": [
    "import numpy as np\n",
    "v = np.array([2, 4])\n",
    "w = np.array([3, 6])\n",
    "\n",
    "# Inner product of vectors:\n",
    "print (v.dot(w))\n",
    "print (np.dot(v, w))"
   ]
  },
  {
   "cell_type": "markdown",
   "metadata": {},
   "source": [
    "For many of these functions, you can specify whether the operation is carried out on the whole array, or a specific axis:"
   ]
  },
  {
   "cell_type": "code",
   "execution_count": null,
   "metadata": {
    "collapsed": false
   },
   "outputs": [],
   "source": [
    "x = np.array([[1,2],[3,4]])\n",
    "print (x)\n",
    "print (np.sum(x))  # Compute sum of all elements; prints \"10\"\n",
    "print (np.sum(x, axis=0))  # Compute sum of each column; prints \"[4 6]\"\n",
    "print (np.sum(x, axis=1))  # Compute sum of each row; prints \"[3 7]\""
   ]
  },
  {
   "cell_type": "markdown",
   "metadata": {},
   "source": [
    "You can find the full list of mathematical functions provided by numpy in the [documentation](http://docs.scipy.org/doc/numpy/reference/routines.math.html).\n",
    "\n",
    "Apart from computing mathematical functions using arrays, we frequently need to reshape or otherwise manipulate data in arrays. The simplest example of this type of operation is transposing a matrix; to transpose a matrix, simply use the T attribute of an array object:"
   ]
  },
  {
   "cell_type": "code",
   "execution_count": null,
   "metadata": {
    "collapsed": false
   },
   "outputs": [],
   "source": [
    "v = np.array([[1,2,3], [4, 5, 6]])\n",
    "print (v)\n",
    "print (v.T)"
   ]
  },
  {
   "cell_type": "markdown",
   "metadata": {},
   "source": [
    "### Broadcasting"
   ]
  },
  {
   "cell_type": "markdown",
   "metadata": {},
   "source": [
    "Broadcasting is a powerful mechanism that allows numpy to work with arrays of different shapes when performing arithmetic operations. Frequently we have a smaller array and a larger array, and we want to use the smaller array multiple times to perform some operation on the larger array."
   ]
  },
  {
   "cell_type": "markdown",
   "metadata": {},
   "source": [
    "Numpy broadcasting allows us to perform this computation without actually creating multiple copies of v. Consider this version, using broadcasting:"
   ]
  },
  {
   "cell_type": "code",
   "execution_count": null,
   "metadata": {
    "collapsed": false
   },
   "outputs": [],
   "source": [
    "import numpy as np\n",
    "\n",
    "# We will add the vector v to each row of the matrix x,\n",
    "# storing the result in the matrix y\n",
    "x = np.array([[1,2,3], [4,5,6], [7,8,9], [10, 11, 12]])\n",
    "v = np.array([1, 0, 1])\n",
    "y = x * v  # Multiple x by v using broadcasting\n",
    "print(y)"
   ]
  },
  {
   "cell_type": "markdown",
   "metadata": {},
   "source": [
    "More information is availaable here: [documentation](http://docs.scipy.org/doc/numpy/user/basics.broadcasting.html) or  [explanation](http://wiki.scipy.org/EricsBroadcastingDoc)."
   ]
  },
  {
   "cell_type": "markdown",
   "metadata": {},
   "source": [
    "This brief overview has touched on many of the important things that you need to know about numpy, but is far from complete. Check out the [numpy reference](http://docs.scipy.org/doc/numpy/reference/) to find out much more about numpy."
   ]
  },
  {
   "cell_type": "markdown",
   "metadata": {},
   "source": [
    "### Numpy exercises\n",
    "\n",
    "Let's get some practice with numpy by first loading some data.  We have some numeric data from the XML files - zip codes and revenues.  Using the code below, you can generate numpy array files - one is a simple one-dimensional array containing the total revenue per zip code.  The second is a two-dimensional array of zip codes and revenues from each return."
   ]
  },
  {
   "cell_type": "code",
   "execution_count": null,
   "metadata": {
    "collapsed": true
   },
   "outputs": [],
   "source": [
    "import csv\n",
    "import numpy as np\n",
    "\n",
    "sample_text = \"\"\n",
    "zip_codes = []\n",
    "revenues = []\n",
    "\n",
    "with open(\"all_data.txt\") as f:\n",
    "    dr = csv.DictReader(f, delimiter=\"\\t\")\n",
    "    for d in dr:\n",
    "        try:\n",
    "            if len(d[\"revenue\"]) > 0 and len(d[\"zip\"]) == 5:\n",
    "                zip_codes.append(int(d[\"zip\"]))\n",
    "                revenues.append(int(d[\"revenue\"]))\n",
    "        except Exception as ex:\n",
    "            print(d, ex)\n",
    "\n",
    "# Simple one-dimensional case - an array with just revenues, where array index is zip code\n",
    "arr_size = max(zip_codes)+1\n",
    "arr = np.zeros((arr_size, ))\n",
    "for i in range(len(zip_codes)):\n",
    "    z = zip_codes[i]\n",
    "    if z > 0:\n",
    "        arr[z] += revenues[i]\n",
    "np.save(\"revenue_per_zip.npy\", arr)\n",
    "\n",
    "# Two-dimensional case - an array with zip codes and revenus\n",
    "arr_multi = np.array([zip_codes, revenues])\n",
    "np.save(\"zips_and_revenues.npy\", arr_multi)"
   ]
  },
  {
   "cell_type": "markdown",
   "metadata": {},
   "source": [
    "We can look at the revenues in matplotlib using some of the stats functions in numpy (see https://docs.scipy.org/doc/numpy/reference/routines.statistics.html):"
   ]
  },
  {
   "cell_type": "code",
   "execution_count": null,
   "metadata": {
    "collapsed": false
   },
   "outputs": [],
   "source": [
    "import matplotlib.pyplot as plt\n",
    "# lets plots show up in notebook\n",
    "%matplotlib inline  "
   ]
  },
  {
   "cell_type": "code",
   "execution_count": null,
   "metadata": {
    "collapsed": false
   },
   "outputs": [],
   "source": [
    "import numpy as np\n",
    "arr = np.load(\"revenue_per_zip.npy\")\n",
    "# Ignore the zips with zero total revenue\n",
    "arr = arr[arr>0]\n",
    "print(arr.max())\n",
    "print(arr.min())\n",
    "print(arr.min())\n",
    "print(np.std(arr))\n",
    "print(arr.mean())\n",
    "print(np.median(arr))\n",
    "\n",
    "plt.hist(np.log10(arr))  # Try plotting without log10!"
   ]
  },
  {
   "cell_type": "markdown",
   "metadata": {},
   "source": [
    "#### Question - what are the 5% and 95% percentiles of non-profits by revenue based on this data?"
   ]
  },
  {
   "cell_type": "markdown",
   "metadata": {},
   "source": [
    "Now lets take a look at the two-dimensional array and looking at specific zip codes"
   ]
  },
  {
   "cell_type": "code",
   "execution_count": null,
   "metadata": {
    "collapsed": false
   },
   "outputs": [],
   "source": [
    "import numpy as np\n",
    "arr = np.load(\"zips_and_revenues.npy\")\n",
    "print(arr.shape)\n",
    "print(arr)\n",
    "arr = arr.T  # Transpose will set things up with more intuitive row/colums order\n",
    "print(arr)"
   ]
  },
  {
   "cell_type": "code",
   "execution_count": null,
   "metadata": {
    "collapsed": false
   },
   "outputs": [],
   "source": [
    "print(arr[:, 0].max())\n",
    "print(arr[:, 1].max())\n",
    "# A couple of boolean array indexing examples:\n",
    "arr[arr[:,1] == arr[:, 1].max()]\n",
    "arr[arr[:,0] == 10003].sum()"
   ]
  },
  {
   "cell_type": "markdown",
   "metadata": {},
   "source": [
    "### Question - in what zip codes are the top 0.01 percent of recipiences by revenue located?"
   ]
  },
  {
   "cell_type": "code",
   "execution_count": null,
   "metadata": {
    "collapsed": false
   },
   "outputs": [],
   "source": []
  },
  {
   "cell_type": "markdown",
   "metadata": {},
   "source": [
    "#### Extra challenge \n",
    "\n",
    "Often, when processing text, we need to convert it to a numeric representation in a numpy array.  \"Vectorizing\" refers to expressing things like word frequencies as vectors, or 1-dimensional numpy arrays.  Taking the results of the last NLTK exercise, where we have the differences in word frequencies between NYC and NYS mission statements, convert those values into a numpy array.  Then use them as weights to classify any text that uses those words.  The steps might be something like:\n",
    "\n",
    "* Create a list of word indexes and delta values.\n",
    "* Convert the list of deltas into a numpy array.\n",
    "* Create a numpy array of zeros the same size as the deltas.\n",
    "* Take the text to classify and set the empty array values to 1 at the indexes corresponding to each word. \n",
    "* Calculate the dot product (sum of products) of the two arrays. \n",
    "* Based on the results, decide whether or not the text is likely to be from NYC or NYS."
   ]
  },
  {
   "cell_type": "code",
   "execution_count": null,
   "metadata": {
    "collapsed": true
   },
   "outputs": [],
   "source": [
    "import nltk\n",
    "from nltk.corpus.reader import PlaintextCorpusReader\n",
    "nyc = PlaintextCorpusReader(\"./\", \"./nyc.txt\")\n",
    "nys = PlaintextCorpusReader(\"./\", \"./nys.txt\")\n",
    "\n",
    "nyc_counts  = nltk.FreqDist(nyc.words(\"./nyc.txt\"))\n",
    "nys_counts  = nltk.FreqDist(nyc.words(\"./nys.txt\"))\n",
    "\n",
    "words = list(set(nyc.words(\"./nyc.txt\")))\n",
    "########### Your code here ############\n"
   ]
  },
  {
   "cell_type": "markdown",
   "metadata": {},
   "source": [
    " ### A possible answer to question 1:"
   ]
  },
  {
   "cell_type": "code",
   "execution_count": null,
   "metadata": {
    "collapsed": false
   },
   "outputs": [],
   "source": [
    "top_zips = arr[arr[:, 1] > np.percentile(arr[:, 1], 99.99)]\n",
    "print(top_zips)"
   ]
  }
 ],
 "metadata": {
  "anaconda-cloud": {},
  "kernelspec": {
   "display_name": "Python [default]",
   "language": "python",
   "name": "python3"
  },
  "language_info": {
   "codemirror_mode": {
    "name": "ipython",
    "version": 3
   },
   "file_extension": ".py",
   "mimetype": "text/x-python",
   "name": "python",
   "nbconvert_exporter": "python",
   "pygments_lexer": "ipython3",
   "version": "3.5.2"
  }
 },
 "nbformat": 4,
 "nbformat_minor": 0
}
